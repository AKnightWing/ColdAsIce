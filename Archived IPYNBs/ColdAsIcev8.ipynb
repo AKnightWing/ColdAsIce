{
 "cells": [
  {
   "cell_type": "code",
   "execution_count": 65,
   "metadata": {},
   "outputs": [],
   "source": [
    "import numpy as np\n",
    "from matplotlib import pyplot as plt \n",
    "from matplotlib.colors import LogNorm \n",
    "import copy\n",
    "import random\n",
    "import time"
   ]
  },
  {
   "cell_type": "code",
   "execution_count": 66,
   "metadata": {},
   "outputs": [],
   "source": [
    "def initialise_state(N): #N is the grid dimension (in the above example, N=4)\n",
    "    '''\n",
    "    Author: Siddharth Bachoti\n",
    "    ~Function Description~\n",
    "    '''\n",
    "    grid = np.ones((N,N,2),dtype=int)\n",
    "    \n",
    "    return np.array(grid)\n"
   ]
  },
  {
   "cell_type": "code",
   "execution_count": 67,
   "metadata": {},
   "outputs": [],
   "source": [
    "def plot_vector(p1,p2):\n",
    "    '''\n",
    "    Author: Siddharth Chaini\n",
    "    ~Function Description~\n",
    "    '''\n",
    "    p1 = np.array(p1)\n",
    "    p2 = np.array(p2)\n",
    "    dp = p2-p1\n",
    "    plt.quiver(p1[0], p1[1], dp[0], dp[1],angles='xy', scale_units='xy', scale=1, headwidth = 5, headlength = 7)\n",
    "\n",
    "def get_coord_list(arr):\n",
    "    '''\n",
    "    Author: Siddharth Chaini\n",
    "    ~Function Description~\n",
    "    '''\n",
    "    coord_list=[]\n",
    "    num = len(arr)\n",
    "    for i in range(num):\n",
    "        temp_coord = []\n",
    "        for j in range(num):\n",
    "            current_elems = arr[i][j]\n",
    "            xpt = (num-1)-i\n",
    "            ypt = j\n",
    "            temp_coord.append((xpt,ypt))\n",
    "        coord_list.append(temp_coord)\n",
    "    return coord_list\n",
    "\n",
    "def visualise_2d_model(arr,savefig=False,savename=\".temp\"):\n",
    "    '''\n",
    "    Author: Siddharth Chaini\n",
    "    ~Function Description~\n",
    "    '''\n",
    "    num = len(arr)\n",
    "    plt.axes().set_aspect('equal')\n",
    "    coord_list = get_coord_list(arr)\n",
    "    for i in range(num):\n",
    "        for j in range(num):\n",
    "            current_up_state = arr[i][j][0]\n",
    "            current_right_state = arr[i][j][1]\n",
    "            x_current = coord_list[i][j][1]\n",
    "            y_current = coord_list[i][j][0]\n",
    "\n",
    "            lower_neighbour_up_state = arr[(i+1)%num][j][0]\n",
    "            x_up = coord_list[(i+1)%num][j][1]\n",
    "            y_up = coord_list[(i+1)%num][j][0]\n",
    "\n",
    "            left_neighbour_right_state = arr[i][j-1][1]\n",
    "            x_left = coord_list[i][j-1][1]\n",
    "            y_left = coord_list[i][j-1][0]\n",
    "\n",
    "\n",
    "            current_down_state = -(lower_neighbour_up_state)\n",
    "            current_left_state = -(left_neighbour_right_state)\n",
    "\n",
    "#             plt.plot(x_current,y_current,'ob')\n",
    "            plt.plot(x_current,y_current,\n",
    "                        marker=\"o\", markersize=9, markeredgecolor=\"k\",\n",
    "                        markerfacecolor=\"red\",\n",
    "                        zorder=1)\n",
    "\n",
    "            if current_up_state == 1:\n",
    "                plot_vector([x_current,y_current],[x_current,y_current+1])\n",
    "            elif current_up_state == -1:\n",
    "                plot_vector([x_current,y_current+1],[x_current,y_current])\n",
    "\n",
    "            if current_right_state == 1:\n",
    "                plot_vector([x_current,y_current],[x_current+1,y_current])\n",
    "            elif current_right_state == -1:\n",
    "                plot_vector([x_current+1,y_current],[x_current,y_current])\n",
    "\n",
    "            if current_down_state == 1:\n",
    "                plot_vector([x_current,y_current],[x_current,y_current-1])\n",
    "            elif current_down_state == -1:\n",
    "                plot_vector([x_current,y_current-1],[x_current,y_current])\n",
    "\n",
    "            if current_left_state == 1:\n",
    "                plot_vector([x_current,y_current],[x_current-1,y_current])\n",
    "            elif current_left_state == -1:\n",
    "                plot_vector([x_current-1,y_current],[x_current,y_current])\n",
    "    plt.xlim(-1,num+1)\n",
    "    plt.ylim(-1,num+1)\n",
    "    plt.axis('off')\n",
    "    if savefig:\n",
    "        plt.savefig(f\"{savename}.png\",dpi=300)\n",
    "    plt.show()\n",
    "    plt.close()"
   ]
  },
  {
   "cell_type": "code",
   "execution_count": 68,
   "metadata": {},
   "outputs": [],
   "source": [
    "def check_config(arr):\n",
    "    '''\n",
    "    Author: Tanmay Bhore\n",
    "    ~Function Description~\n",
    "    '''\n",
    "    flag=True\n",
    "    N=len(arr)\n",
    "    for i in range(len(arr)):\n",
    "        for j in range(len(arr)):\n",
    "            \n",
    "            current_up_state = arr[i][j][0]\n",
    "            current_right_state = arr[i][j][1]\n",
    "\n",
    "            lower_neighbour_up_state = arr[(i+1)%N][j][0]\n",
    "            \n",
    "            left_neighbour_right_state = arr[i][j-1][1]\n",
    "\n",
    "\n",
    "            current_left_state = -(left_neighbour_right_state)\n",
    "            current_down_state = -(lower_neighbour_up_state)\n",
    "            \n",
    "            if (current_up_state + current_right_state + current_left_state + current_down_state) != 0:\n",
    "                flag=False\n",
    "                break\n",
    "    return flag"
   ]
  },
  {
   "cell_type": "markdown",
   "metadata": {},
   "source": [
    "# LONG LOOP"
   ]
  },
  {
   "cell_type": "code",
   "execution_count": 69,
   "metadata": {},
   "outputs": [],
   "source": [
    "def long_loop(arr2, verbose=False):\n",
    "    '''\n",
    "    Author: Team ℏ\n",
    "    ~Function Description~\n",
    "    '''\n",
    "    arr = copy.deepcopy(arr2)\n",
    "    N=len(arr)\n",
    "    iters=0\n",
    "    \n",
    "    n1 = np.random.randint(low=0, high=N)\n",
    "    n2 = np.random.randint(low=0, high=N)\n",
    "    inital_pt =(n1,n2)\n",
    "    prev_choice=None\n",
    "    \n",
    "    while True:\n",
    "        iters+=1\n",
    "        if n1==inital_pt[0] and n2==inital_pt[1] and iters!=1:\n",
    "            if verbose:\n",
    "                print(f\"Completed in {iters} iterations.\")\n",
    "#             assert(check_config(arr))\n",
    "            break\n",
    "        current_up_state = arr[n1][n2][0]\n",
    "        current_right_state = arr[n1][n2][1]\n",
    "\n",
    "        lower_neighbour_up_state = arr[(n1+1)%N][n2][0]\n",
    "        left_neighbour_right_state = arr[n1][n2-1][1]\n",
    "\n",
    "        current_down_state = -(lower_neighbour_up_state)    \n",
    "        current_left_state = -(left_neighbour_right_state)\n",
    "\n",
    "        current_states_dict = {\"up\":current_up_state,\"right\":current_right_state,\"down\":current_down_state,\"left\":current_left_state}\n",
    "        outgoing_state_dict={}\n",
    "        incoming_state_dict={}\n",
    "\n",
    "        for key in current_states_dict.keys():\n",
    "            if current_states_dict[key]==1:  #current state is outgoing\n",
    "                outgoing_state_dict[key]=current_states_dict[key]\n",
    "            else:\n",
    "                incoming_state_dict[key]=current_states_dict[key]\n",
    "\n",
    "        if prev_choice ==\"right\":\n",
    "            forbidden_choice=\"left\"\n",
    "        if prev_choice ==\"up\":\n",
    "            forbidden_choice=\"down\"\n",
    "        if prev_choice ==\"left\":\n",
    "            forbidden_choice=\"right\"\n",
    "        if prev_choice ==\"down\":\n",
    "            forbidden_choice=\"up\"\n",
    "        else:\n",
    "            forbidden_choice=None\n",
    "\n",
    "\n",
    "        while True:\n",
    "            out_choice = np.random.choice(list(outgoing_state_dict.keys()))\n",
    "            if out_choice !=forbidden_choice:\n",
    "                break\n",
    "\n",
    "        prev_choice=out_choice\n",
    "\n",
    "        if out_choice == \"up\":\n",
    "            arr[n1][n2][0]= - (arr[n1][n2][0])\n",
    "            n1=(n1-1)%N\n",
    "            n2=n2\n",
    "            continue\n",
    "\n",
    "        if out_choice == \"right\":\n",
    "            arr[n1][n2][1]= - (arr[n1][n2][1])\n",
    "            n1=n1\n",
    "            n2=(n2+1)%N\n",
    "            continue\n",
    "\n",
    "        if out_choice == \"down\":\n",
    "            arr[(n1+1)%N][n2][0]= - (arr[(n1+1)%N][n2][0])\n",
    "            n1=(n1+1)%N\n",
    "            n2=n2\n",
    "            continue\n",
    "\n",
    "        if out_choice == \"left\":\n",
    "            arr[n1][(n2-1)%N][1]= - (arr[n1][(n2-1)%N][1])\n",
    "            n1=n1\n",
    "            n2=(n2-1)%N\n",
    "            continue\n",
    "\n",
    "\n",
    "\n",
    "    return arr"
   ]
  },
  {
   "cell_type": "code",
   "execution_count": 70,
   "metadata": {},
   "outputs": [],
   "source": [
    "def count_states(num,error_threshold,return_dict = False,verbose=False):\n",
    "    '''\n",
    "    Author: Team ℏ\n",
    "    ~Function Description~\n",
    "    '''\n",
    "    if not (error_threshold<=100 and error_threshold>0):\n",
    "        print(\"Error! Please input error_threshold as a value between 0 and 100\")\n",
    "        assert (error_threshold<=100 and error_threshold>0)\n",
    "    state_dict={}\n",
    "    oldarr = long_loop(initialise_state(num), verbose=False)\n",
    "    good_iterations = 0           #Iterations that gave us a new state, so good.\n",
    "    bad_iterations = 0               #Iterations that gave us an already found state,so a waste and hence bad.\n",
    "    while True:\n",
    "        newarr = long_loop(oldarr,verbose=False)\n",
    "        name =arr_to_string(newarr)\n",
    "        if name not in state_dict:\n",
    "            count_repetitions=0\n",
    "            state_dict[name]=1\n",
    "            good_iterations+=1\n",
    "        else:\n",
    "            bad_iterations+=1\n",
    "            count_repetitions+=1\n",
    "            state_dict[name]+=1\n",
    "        percent_approx_err=good_iterations*100/(good_iterations+bad_iterations)\n",
    "        if verbose:\n",
    "            print(f\"Good iterations = {good_iterations} and bad iterations = {bad_iterations} and Error % = {percent_approx_err}\", end=\"\\r\",flush=True)\n",
    "        if percent_approx_err < error_threshold:\n",
    "            break\n",
    "        oldarr=newarr\n",
    "    if return_dict:\n",
    "        return len(state_dict),state_dict\n",
    "    else:\n",
    "        return len(state_dict)"
   ]
  },
  {
   "cell_type": "code",
   "execution_count": 71,
   "metadata": {},
   "outputs": [],
   "source": [
    "def state2to4(arr):\n",
    "    '''\n",
    "    Author: Siddharth Chaini\n",
    "    Examine once.\n",
    "    ~Function Description~\n",
    "    '''\n",
    "    fourstatearr=np.zeros((arr.shape[0],arr.shape[1],4))\n",
    "    N=len(arr)\n",
    "    for i in range(len(arr)):\n",
    "        for j in range(len(arr)):\n",
    "            current_up_state = arr[i][j][0]\n",
    "            current_right_state = arr[i][j][1]\n",
    "            lower_neighbour_up_state = arr[(i+1)%N][j][0]\n",
    "            left_neighbour_right_state = arr[i][j-1][1]\n",
    "            current_left_state = -(left_neighbour_right_state)\n",
    "            current_down_state = -(lower_neighbour_up_state)\n",
    "            fourstatearr[i][j][0] = current_up_state\n",
    "            fourstatearr[i][j][1] = current_right_state\n",
    "            fourstatearr[i][j][2] = current_down_state\n",
    "            fourstatearr[i][j][3] = current_left_state\n",
    "\n",
    "    return fourstatearr"
   ]
  },
  {
   "cell_type": "code",
   "execution_count": 72,
   "metadata": {},
   "outputs": [],
   "source": [
    "#Rot 90 anticlock\n",
    "#Up becomes left, left becomes down, down becomes right, right becomes up\n",
    "def rot90_anticlock(arr2):\n",
    "    '''\n",
    "    Author: Siddharth Chaini\n",
    "    ~Function Description~\n",
    "    '''\n",
    "    fourstatearr = state2to4(arr2)\n",
    "    fourstatearr = np.rot90(fourstatearr,1)\n",
    "    arr=np.zeros((fourstatearr.shape[0],fourstatearr.shape[1],2))\n",
    "    N=len(arr)\n",
    "    for i in range(len(arr)):\n",
    "        for j in range(len(arr)):\n",
    "            current_up_state = fourstatearr[i][j][0]\n",
    "            current_right_state = fourstatearr[i][j][1]\n",
    "            current_down_state = fourstatearr[i][j][2]\n",
    "            current_left_state = fourstatearr[i][j][3]\n",
    "            \n",
    "            new_up_state = current_right_state\n",
    "            new_right_state = current_down_state\n",
    "            \n",
    "            arr[i][j][0]=new_up_state\n",
    "            arr[i][j][1]=new_right_state\n",
    "    \n",
    "    return arr.astype(int)\n",
    "\n",
    "#Rot 180 anticlock\n",
    "#Up becomes down, left becomes right, down becomes up, right becomes left\n",
    "def rot180_anticlock(arr2):\n",
    "    '''\n",
    "    Author: Siddharth Chaini\n",
    "    ~Function Description~\n",
    "    '''\n",
    "    fourstatearr = state2to4(arr2)\n",
    "    fourstatearr = np.rot90(fourstatearr,2)\n",
    "    arr=np.zeros((fourstatearr.shape[0],fourstatearr.shape[1],2))\n",
    "    N=len(arr)\n",
    "    for i in range(len(arr)):\n",
    "        for j in range(len(arr)):\n",
    "            current_up_state = fourstatearr[i][j][0]\n",
    "            current_right_state = fourstatearr[i][j][1]\n",
    "            current_down_state = fourstatearr[i][j][2]\n",
    "            current_left_state = fourstatearr[i][j][3]\n",
    "            \n",
    "            new_up_state = current_down_state\n",
    "            new_right_state = current_left_state\n",
    "            \n",
    "            arr[i][j][0]=new_up_state\n",
    "            arr[i][j][1]=new_right_state\n",
    "    \n",
    "    return arr.astype(int)\n",
    "\n",
    "#Rot 270 anticlock\n",
    "#Up becomes right, left becomes up, down becomes left, right becomes down\n",
    "def rot270_anticlock(arr2):\n",
    "    '''\n",
    "    Author: Siddharth Chaini\n",
    "    ~Function Description~\n",
    "    '''\n",
    "    fourstatearr = state2to4(arr2)\n",
    "    fourstatearr = np.rot90(fourstatearr,3)\n",
    "    arr=np.zeros((fourstatearr.shape[0],fourstatearr.shape[1],2))\n",
    "    N=len(arr)\n",
    "    for i in range(len(arr)):\n",
    "        for j in range(len(arr)):\n",
    "            current_up_state = fourstatearr[i][j][0]\n",
    "            current_right_state = fourstatearr[i][j][1]\n",
    "            current_down_state = fourstatearr[i][j][2]\n",
    "            current_left_state = fourstatearr[i][j][3]\n",
    "            \n",
    "            new_up_state = current_left_state\n",
    "            new_right_state = current_up_state\n",
    "            \n",
    "            arr[i][j][0]=new_up_state\n",
    "            arr[i][j][1]=new_right_state\n",
    "    \n",
    "    return arr.astype(int)"
   ]
  },
  {
   "cell_type": "code",
   "execution_count": 73,
   "metadata": {},
   "outputs": [],
   "source": [
    "#Flip horizontally\n",
    "#Up becomes right, left becomes up, down becomes left, right becomes down\n",
    "def hor_flip(arr2):\n",
    "    '''\n",
    "    Author: Siddharth Chaini and Vipin Khade\n",
    "    ~Function Description~\n",
    "    '''\n",
    "    arr = np.flip(arr2,1)\n",
    "    proper_arr=np.zeros_like(arr2)\n",
    "    num = len(arr)\n",
    "    for i in range(num):\n",
    "        for j in range(num):\n",
    "            current_up_state = arr[i][j][0]\n",
    "            current_left_state = arr[i][j][1]\n",
    "            \n",
    "            right_neighbour_left_state = arr[i][(j+1)%num][1]\n",
    "            current_right_state = - (right_neighbour_left_state)\n",
    "\n",
    "            proper_arr[i][j][0]=current_up_state\n",
    "            proper_arr[i][j][1]=current_right_state\n",
    "    return proper_arr.astype(int)\n",
    "\n",
    "#Flip vertically\n",
    "#Up becomes right, left becomes up, down becomes left, right becomes down\n",
    "def ver_flip(arr2):\n",
    "    '''\n",
    "    Author: Siddharth Chaini and Vipin Khade\n",
    "    ~Function Description~\n",
    "    '''\n",
    "    arr = np.flip(arr2,0)\n",
    "    proper_arr=np.zeros_like(arr2)\n",
    "    num = len(arr)\n",
    "    for i in range(num):\n",
    "        for j in range(num):\n",
    "            current_down_state = arr[i][j][0]\n",
    "            current_right_state = arr[i][j][1]\n",
    "            \n",
    "            upper_neighbour_down_state = arr[i-1][j][0]\n",
    "            current_up_state = - (upper_neighbour_down_state)\n",
    "            \n",
    "            proper_arr[i][j][0]=current_up_state\n",
    "            proper_arr[i][j][1]=current_right_state\n",
    "    return proper_arr.astype(int)\n"
   ]
  },
  {
   "cell_type": "code",
   "execution_count": 74,
   "metadata": {},
   "outputs": [],
   "source": [
    "def flip_secondary_diag(arr2):\n",
    "    '''\n",
    "    Author: Siddharth Bachoti\n",
    "    ~Function Description~\n",
    "    '''\n",
    "    arr = copy.deepcopy(arr2)\n",
    "    N = len(arr)\n",
    "    for i in range(N):\n",
    "        for j in range(N):\n",
    "            if (i+j)<=N-1:\n",
    "                dist = N-(i+j+1)\n",
    "                arr[i][j][0], arr[i+dist][j+dist][0], arr[i][j][1], arr[i+dist][j+dist][1] = arr[i+dist][j+dist][1], arr[i][j][1], arr[i+dist][j+dist][0], arr[i][j][0]                \n",
    "    return arr.astype(int)\n",
    "\n",
    "def flip_primary_diag(arr2):\n",
    "    '''\n",
    "    Author: Siddharth Bachoti\n",
    "    ~Function Description~\n",
    "    '''\n",
    "    arr = copy.deepcopy(arr2)\n",
    "    N = len(arr)\n",
    "    arr = rot90_anticlock(flip_secondary_diag(rot270_anticlock(arr)))\n",
    "    return arr.astype(int)\n"
   ]
  },
  {
   "cell_type": "code",
   "execution_count": 75,
   "metadata": {},
   "outputs": [],
   "source": [
    "def get_all_column_translations(arr):\n",
    "    '''\n",
    "    Author: Siddharth Chaini\n",
    "    ~Function Description~\n",
    "    '''\n",
    "    result_arr_list=[]\n",
    "    N=len(arr) \n",
    "    for i in range(1,N):\n",
    "        a1 = arr[:,0:i].reshape(N,-1,2)\n",
    "        a2 = arr[:,i:].reshape(N,-1,2)\n",
    "        res = np.hstack([a2,a1])\n",
    "        result_arr_list.append(res)\n",
    "    return result_arr_list"
   ]
  },
  {
   "cell_type": "code",
   "execution_count": 76,
   "metadata": {},
   "outputs": [],
   "source": [
    "def get_all_row_translations(arr):\n",
    "    '''\n",
    "    Author: Siddharth Chaini\n",
    "    ~Function Description~\n",
    "    '''\n",
    "    result_arr_list=[]\n",
    "    N=len(arr) \n",
    "    for i in range(1,N):\n",
    "        a1 = arr[0:i,:].reshape(-1,N,2)\n",
    "        a2 = arr[i:,:].reshape(-1,N,2)\n",
    "        res = np.vstack([a2,a1])\n",
    "        result_arr_list.append(res)\n",
    "    return result_arr_list"
   ]
  },
  {
   "cell_type": "code",
   "execution_count": 77,
   "metadata": {},
   "outputs": [],
   "source": [
    "def arr_to_string(arr2):\n",
    "    '''\n",
    "    Author: Siddharth Chaini\n",
    "    ~Function Description~\n",
    "    '''\n",
    "    arr = copy.deepcopy(arr2)\n",
    "    name = ' '.join(map(str, arr.flatten())).replace(' ','')\n",
    "    return name"
   ]
  },
  {
   "cell_type": "code",
   "execution_count": 78,
   "metadata": {},
   "outputs": [],
   "source": [
    "def string_to_arr(s):\n",
    "    '''\n",
    "    Author: Siddharth Chaini\n",
    "    ~Function Description~\n",
    "    '''\n",
    "    replaced_str = s.replace(\"-1\",\"0\")\n",
    "    arr=[]\n",
    "    for i in replaced_str:\n",
    "        if i=='1':\n",
    "            arr.append(1)\n",
    "        elif i==\"0\":\n",
    "            arr.append(-1)\n",
    "        else:\n",
    "            print(\"ERROR\")\n",
    "            assert(1==0)\n",
    "    arr = np.array(arr)\n",
    "    arr = arr.reshape(int(np.sqrt(len(arr)/2)),int(np.sqrt(len(arr)/2)),2)\n",
    "    return arr"
   ]
  },
  {
   "cell_type": "code",
   "execution_count": 79,
   "metadata": {},
   "outputs": [],
   "source": [
    "def remove_symmetries(all_names, verbose=False):\n",
    "    '''\n",
    "    Author: Team ℏ\n",
    "    ~Function Description~\n",
    "    '''\n",
    "    assert type(all_names)==list\n",
    "    for i,given_name in enumerate(all_names):\n",
    "        if verbose and i%100 ==0:\n",
    "            print(f\"Loading... {i}/{len(all_names)} done. Percent Completed = {100*i/len(all_names)}.\", end=\"\\r\",flush=True)\n",
    "#         print(\"*******************************\")\n",
    "#         print(f\"Original Name = {given_name}\")\n",
    "        arr = string_to_arr(given_name)\n",
    "        #Column Translation symmetries\n",
    "        templist=get_all_column_translations(arr)\n",
    "        for newarr in templist:\n",
    "            name = arr_to_string(newarr)\n",
    "#             print(f\"Col Trans Name = {name}\")\n",
    "            if name in all_names[i+1:]:\n",
    "                idx = all_names[i+1:].index(name) + i+1\n",
    "                del all_names[idx]\n",
    "                i = all_names.index(given_name)\n",
    "        \n",
    "        #Row Translation symmetries\n",
    "        templist=get_all_row_translations(arr)\n",
    "        for newarr in templist:\n",
    "            name = arr_to_string(newarr)\n",
    "#             print(f\"Row Trans Name = {name}\")\n",
    "            if name in all_names[i+1:]:\n",
    "                idx = all_names[i+1:].index(name) + i+1\n",
    "                del all_names[idx]\n",
    "                i = all_names.index(given_name)\n",
    "        \n",
    "        #Check 90 degree rotation symmetry\n",
    "        name = arr_to_string(rot90_anticlock(arr))\n",
    "#         print(f\"Rot 90 Name = {name}\")\n",
    "        if name in all_names[i+1:]:\n",
    "            idx = all_names[i+1:].index(name) + i+1\n",
    "            del all_names[idx]\n",
    "            i = all_names.index(given_name)\n",
    "\n",
    "        #Check 180 degree rotation symmetry\n",
    "        name = arr_to_string(rot180_anticlock(arr))\n",
    "#         print(f\"Rot 180 Name = {name}\")\n",
    "        if name in all_names[i+1:]:\n",
    "            idx = all_names[i+1:].index(name) + i+1\n",
    "            del all_names[idx]\n",
    "            i = all_names.index(given_name)\n",
    "\n",
    "        #Check 270 degree rotation symmetry\n",
    "        name = arr_to_string(rot270_anticlock(arr))\n",
    "#         print(f\"Rot 270 Name = {name}\")\n",
    "        if name in all_names[i+1:]:\n",
    "            idx = all_names[i+1:].index(name) + i+1\n",
    "            del all_names[idx]\n",
    "            i = all_names.index(given_name)\n",
    "\n",
    "        #Check horizontal flip symmetry\n",
    "        name = arr_to_string(hor_flip(arr))\n",
    "#         print(f\"Flip Hor Name = {name}\")\n",
    "        if name in all_names[i+1:]:\n",
    "            idx = all_names[i+1:].index(name) + i+1\n",
    "            del all_names[idx]\n",
    "            i = all_names.index(given_name)\n",
    "\n",
    "        #Check vertical flip symmetry\n",
    "        name = arr_to_string(ver_flip(arr))\n",
    "#         print(f\"Flip Ver Name = {name}\")\n",
    "        if name in all_names[i+1:]:\n",
    "            idx = all_names[i+1:].index(name) + i+1\n",
    "            del all_names[idx]\n",
    "            i = all_names.index(given_name)\n",
    "\n",
    "        #Check secondary diagonal flip symmetry\n",
    "        name = arr_to_string(flip_secondary_diag(arr))\n",
    "#         print(f\"Sec Diag Name = {name}\")\n",
    "        if name in all_names[i+1:]:\n",
    "            idx = all_names[i+1:].index(name) + i+1\n",
    "            del all_names[idx]\n",
    "            i = all_names.index(given_name)\n",
    "\n",
    "        #Check primary diagonal flip symmetry\n",
    "        name = arr_to_string(flip_primary_diag(arr))\n",
    "#         print(f\"Prim Diag Name = {name}\")\n",
    "        if name in all_names[i+1:]:\n",
    "            idx = all_names[i+1:].index(name) + i+1\n",
    "            del all_names[idx]\n",
    "            i = all_names.index(given_name)\n",
    "    return all_names"
   ]
  },
  {
   "cell_type": "markdown",
   "metadata": {},
   "source": [
    "# ENERGETIC: F1"
   ]
  },
  {
   "cell_type": "code",
   "execution_count": 80,
   "metadata": {},
   "outputs": [],
   "source": [
    "arr = [[[-1,1],[-1,1],[1,-1],[-1,1]],\n",
    "         [[-1,-1],[-1,-1],[-1,1],[1,-1]],\n",
    "         [[-1,1],[-1,1],[1,1],[-1,1]],\n",
    "         [[-1,1],[-1,1],[1,1],[-1,1]]]\n",
    "arr = np.array(arr)"
   ]
  },
  {
   "cell_type": "code",
   "execution_count": 81,
   "metadata": {},
   "outputs": [],
   "source": [
    "def calculate_energy(arr,eps=1):\n",
    "    '''\n",
    "    Author: Vipin Khade\n",
    "    ~Function Description~\n",
    "    '''\n",
    "    N = len(arr)\n",
    "    s = 0\n",
    "    for i in range(len(arr)):\n",
    "        for j in range(len(arr)):  \n",
    "            current_up_state = arr[i][j][0]\n",
    "            current_right_state = arr[i][j][1]\n",
    "            lower_neighbour_up_state = arr[(i+1)%N][j][0] \n",
    "            left_neighbour_right_state = arr[i][j-1][1]\n",
    "            if  current_up_state ==1 and lower_neighbour_up_state == -1 : \n",
    "                s+= 1\n",
    "            elif current_right_state == 1 and left_neighbour_right_state == -1:\n",
    "                s+= 1\n",
    "    return (-s*eps)"
   ]
  },
  {
   "cell_type": "code",
   "execution_count": 82,
   "metadata": {},
   "outputs": [],
   "source": [
    "def calculate_atom_config(arr):\n",
    "    '''\n",
    "    Author: Siddharth Chaini\n",
    "    ~Function Description~\n",
    "    '''\n",
    "    tupdict = {\n",
    "        (1,1,-1,-1):1,\n",
    "        (-1,-1,1,1):2,\n",
    "        (1,-1,-1,1):3,\n",
    "        (-1,1,1,-1):4,\n",
    "        (-1,1,-1,1):5,\n",
    "        (1,-1,1,-1):6\n",
    "    }\n",
    "    num=len(arr)\n",
    "    typearr = np.zeros((arr.shape[0],arr.shape[1]))\n",
    "    for i in range(len(arr)):\n",
    "        for j in range(len(arr)):\n",
    "            current_up_state = arr[i][j][0]\n",
    "            current_right_state = arr[i][j][1]\n",
    "\n",
    "            lower_neighbour_up_state = arr[(i+1)%num][j][0]\n",
    "\n",
    "            left_neighbour_right_state = arr[i][j-1][1]\n",
    "\n",
    "            current_down_state = -(lower_neighbour_up_state)\n",
    "            current_left_state = -(left_neighbour_right_state)\n",
    "\n",
    "            tup = (current_up_state,current_right_state,current_down_state,current_left_state)\n",
    "            atomtype = tupdict[tup]\n",
    "            typearr[i][j] = atomtype\n",
    "    return typearr.astype(int)"
   ]
  },
  {
   "cell_type": "code",
   "execution_count": 83,
   "metadata": {},
   "outputs": [],
   "source": [
    "def calculate_energy_using_atom_config(arr, eps):\n",
    "    '''\n",
    "    Author: Siddharth Chaini\n",
    "    ~Function Description~\n",
    "    '''\n",
    "    atom_config_arr = calculate_atom_config(arr).flatten()\n",
    "    energy = len(np.where(atom_config_arr==5)[0])+len(np.where(atom_config_arr==6)[0])\n",
    "    energy = energy * eps\n",
    "    return energy"
   ]
  },
  {
   "cell_type": "code",
   "execution_count": 84,
   "metadata": {},
   "outputs": [],
   "source": [
    "def visualise_atom_config_with_bonds(arr,savefig=False,savename=\".temp\"):\n",
    "    '''\n",
    "    Author: Siddharth Chaini\n",
    "    ~Function Description~\n",
    "    '''\n",
    "    num = len(arr)\n",
    "    plt.axes().set_aspect('equal')\n",
    "    coord_list = get_coord_list(arr)\n",
    "    atom_config_arr = calculate_atom_config(arr)\n",
    "    for i in range(num):\n",
    "        for j in range(num):\n",
    "            current_up_state = arr[i][j][0]\n",
    "            current_right_state = arr[i][j][1]\n",
    "            x_current = coord_list[i][j][1]\n",
    "            y_current = coord_list[i][j][0]\n",
    "\n",
    "            lower_neighbour_up_state = arr[(i+1)%num][j][0]\n",
    "            x_up = coord_list[(i+1)%num][j][1]\n",
    "            y_up = coord_list[(i+1)%num][j][0]\n",
    "\n",
    "            left_neighbour_right_state = arr[i][j-1][1]\n",
    "            x_left = coord_list[i][j-1][1]\n",
    "            y_left = coord_list[i][j-1][0]\n",
    "\n",
    "\n",
    "            current_down_state = -(lower_neighbour_up_state)\n",
    "            current_left_state = -(left_neighbour_right_state)\n",
    "\n",
    "            if atom_config_arr[i][j]==5:\n",
    "                plt.plot(x_current,y_current,\n",
    "                            marker=\"o\", markersize=9, markeredgecolor=\"k\",\n",
    "                            markerfacecolor=\"cyan\",\n",
    "                            zorder=1)\n",
    "            elif atom_config_arr[i][j]==6:\n",
    "                plt.plot(x_current,y_current,\n",
    "                            marker=\"o\", markersize=9, markeredgecolor=\"k\",\n",
    "                            markerfacecolor=\"magenta\",\n",
    "                            zorder=1)\n",
    "            else:\n",
    "                plt.plot(x_current,y_current,\n",
    "                            marker=\"o\", markersize=9, markeredgecolor=\"k\",\n",
    "                            markerfacecolor=\"gray\",\n",
    "                            zorder=1)                \n",
    "            if current_up_state == 1:\n",
    "                plot_vector([x_current,y_current],[x_current,y_current+1])\n",
    "            elif current_up_state == -1:\n",
    "                plot_vector([x_current,y_current+1],[x_current,y_current])\n",
    "\n",
    "            if current_right_state == 1:\n",
    "                plot_vector([x_current,y_current],[x_current+1,y_current])\n",
    "            elif current_right_state == -1:\n",
    "                plot_vector([x_current+1,y_current],[x_current,y_current])\n",
    "\n",
    "            if current_down_state == 1:\n",
    "                plot_vector([x_current,y_current],[x_current,y_current-1])\n",
    "            elif current_down_state == -1:\n",
    "                plot_vector([x_current,y_current-1],[x_current,y_current])\n",
    "\n",
    "            if current_left_state == 1:\n",
    "                plot_vector([x_current,y_current],[x_current-1,y_current])\n",
    "            elif current_left_state == -1:\n",
    "                plot_vector([x_current-1,y_current],[x_current,y_current])\n",
    "    plt.xlim(-1,num+1)\n",
    "    plt.ylim(-1,num+1)\n",
    "    plt.axis('off')\n",
    "    if savefig:\n",
    "        plt.savefig(f\"{savename}.png\",dpi=300)\n",
    "    plt.show()\n",
    "    plt.close()"
   ]
  },
  {
   "cell_type": "code",
   "execution_count": 85,
   "metadata": {},
   "outputs": [],
   "source": [
    "def visualise_final_state(arr,savefig=False,savename=\".temp\"):\n",
    "    '''\n",
    "    Author: Siddharth Chaini and Tanmay Bhore\n",
    "    ~Function Description~\n",
    "    '''\n",
    "    plt.axes().set_aspect('equal')\n",
    "    atom_config_arr = calculate_atom_config(arr)\n",
    "    colordict = {1:0,2:0,3:0,4:0,5:-1,6:1}\n",
    "    atom_config_arr_copy = np.copy(atom_config_arr)\n",
    "    for key, val in colordict.items(): atom_config_arr_copy[atom_config_arr==key] = val\n",
    "    flipped_arr = np.flip(atom_config_arr_copy,0)\n",
    "    plt.pcolormesh(flipped_arr,cmap=plt.cm.coolwarm)\n",
    "    if savefig:\n",
    "        plt.savefig(f\"{savename}.png\",dpi=300)\n",
    "    plt.show()\n",
    "    plt.close()    "
   ]
  },
  {
   "cell_type": "code",
   "execution_count": 96,
   "metadata": {},
   "outputs": [],
   "source": [
    "def metropolis_move(arr,temp,eps=1,verbose = False):\n",
    "    '''\n",
    "    Author: Tanmay Bhore\n",
    "    ~Function Description~\n",
    "    Dependencies: Uses energy(arr) function\n",
    "    and long_loop(arr) function.\n",
    "    \n",
    "    '''\n",
    "    new = long_loop(arr, verbose = verbose)\n",
    "    old_energy = calculate_energy(arr,eps)\n",
    "    new_energy = calculate_energy(new,eps)\n",
    "    delta_E = new_energy - old_energy\n",
    "\n",
    "    if temp >0:\n",
    "        beta = 1/(temp)\n",
    "        if delta_E <0:\n",
    "            arr = new\n",
    "        elif np.random.uniform() < np.exp(-beta*delta_E):\n",
    "            arr = new\n",
    "    elif temp==0:\n",
    "        if delta_E <0:\n",
    "            arr = new\n",
    "    return arr\n"
   ]
  },
  {
   "cell_type": "code",
   "execution_count": 97,
   "metadata": {},
   "outputs": [],
   "source": [
    "def calculate_polarization(arr):\n",
    "    '''\n",
    "    Author: Siddharth Bachoti\n",
    "    ~Function Description~\n",
    "    '''\n",
    "    vert = 0\n",
    "    hor = 0\n",
    "    N = len(arr)**2\n",
    "    for i in arr:\n",
    "        for j in i:\n",
    "            vert+=j[0]\n",
    "            hor+=j[1]\n",
    "\n",
    "    polarization= ((1/((2**0.5)*N))*hor,(1/((2**0.5)*N))*vert)\n",
    "    \n",
    "    polval = np.sqrt(polarization[0]**2 + polarization[1]**2)\n",
    "    \n",
    "    return polval"
   ]
  },
  {
   "cell_type": "code",
   "execution_count": 98,
   "metadata": {},
   "outputs": [],
   "source": [
    "#Temp array, Energy @that temp array"
   ]
  },
  {
   "cell_type": "code",
   "execution_count": 194,
   "metadata": {},
   "outputs": [],
   "source": [
    "def equilibrate(n,temp,breaking_iters=3000,eps=1,verbose=False):\n",
    "    '''\n",
    "    Author: Team ℏ\n",
    "    ~Function Description~\n",
    "    '''\n",
    "    assert temp>=0\n",
    "    arr = initialise_state(n)\n",
    "    polar_list=[]\n",
    "    iter_list=[]\n",
    "    polval = calculate_polarization(arr)\n",
    "    for i in range(breaking_iters):\n",
    "        if verbose:\n",
    "            print(f\"Pol = {polval} and iter = {i}\",end=\"\\r\",flush=True)\n",
    "        arr=metropolis_move(arr,temp,eps=eps)\n",
    "        newpolval = calculate_polarization(arr)\n",
    "        polar_list.append(polval)\n",
    "        polval=newpolval\n",
    "    return polar_list,arr"
   ]
  },
  {
   "cell_type": "code",
   "execution_count": 195,
   "metadata": {},
   "outputs": [
    {
     "data": {
      "text/plain": [
       "2.0"
      ]
     },
     "execution_count": 195,
     "metadata": {},
     "output_type": "execute_result"
    }
   ],
   "source": [
    "np.array([1,2,3]).mean()"
   ]
  },
  {
   "cell_type": "code",
   "execution_count": 196,
   "metadata": {},
   "outputs": [],
   "source": [
    "def get_sp_heat_and_energy(n,temp,breaking_iters=3000):\n",
    "    polar_list, arr = equilibrate(n,temp,breaking_iters=breaking_iters)\n",
    "    energy_list=[]\n",
    "    for i in range(100):\n",
    "        arr=metropolis_move(arr,temp)\n",
    "        en=calculate_energy(arr,eps=1)\n",
    "        energy_list.append(en)\n",
    "    energy_list = np.array(energy_list)\n",
    "    energy = energy_list.mean()\n",
    "    beta = 1/temp\n",
    "    sp_heat = beta**2 * ((energy_list**2).mean() - (energy_list.mean())**2)/n**2\n",
    "    return sp_heat, energy"
   ]
  },
  {
   "cell_type": "code",
   "execution_count": 201,
   "metadata": {},
   "outputs": [],
   "source": [
    "temp_arr=np.linspace(0.1,4.5,20)"
   ]
  },
  {
   "cell_type": "code",
   "execution_count": 202,
   "metadata": {},
   "outputs": [
    {
     "name": "stdout",
     "output_type": "stream",
     "text": [
      "******* TEMP = 0.1 *******\n",
      "******* TEMP = 0.9222222222222223 *******\n"
     ]
    },
    {
     "ename": "KeyboardInterrupt",
     "evalue": "",
     "output_type": "error",
     "traceback": [
      "\u001b[1;31m---------------------------------------------------------------------------\u001b[0m",
      "\u001b[1;31mKeyboardInterrupt\u001b[0m                         Traceback (most recent call last)",
      "\u001b[1;32m<ipython-input-202-b9ae0fb47b28>\u001b[0m in \u001b[0;36m<module>\u001b[1;34m\u001b[0m\n\u001b[0;32m      3\u001b[0m \u001b[1;32mfor\u001b[0m \u001b[0mtemp\u001b[0m \u001b[1;32min\u001b[0m \u001b[0mtemp_arr\u001b[0m\u001b[1;33m:\u001b[0m\u001b[1;33m\u001b[0m\u001b[1;33m\u001b[0m\u001b[0m\n\u001b[0;32m      4\u001b[0m     \u001b[0mprint\u001b[0m\u001b[1;33m(\u001b[0m\u001b[1;34mf\"******* TEMP = {temp} *******\"\u001b[0m\u001b[1;33m)\u001b[0m\u001b[1;33m\u001b[0m\u001b[1;33m\u001b[0m\u001b[0m\n\u001b[1;32m----> 5\u001b[1;33m     \u001b[0msp\u001b[0m\u001b[1;33m,\u001b[0m\u001b[0men\u001b[0m \u001b[1;33m=\u001b[0m \u001b[0mget_sp_heat_and_energy\u001b[0m\u001b[1;33m(\u001b[0m\u001b[0mn\u001b[0m\u001b[1;33m=\u001b[0m\u001b[1;36m20\u001b[0m\u001b[1;33m,\u001b[0m\u001b[0mtemp\u001b[0m\u001b[1;33m=\u001b[0m\u001b[0mtemp\u001b[0m\u001b[1;33m,\u001b[0m\u001b[0mbreaking_iters\u001b[0m\u001b[1;33m=\u001b[0m\u001b[1;36m4000\u001b[0m\u001b[1;33m)\u001b[0m\u001b[1;33m\u001b[0m\u001b[1;33m\u001b[0m\u001b[0m\n\u001b[0m\u001b[0;32m      6\u001b[0m     \u001b[0msp_heat\u001b[0m\u001b[1;33m.\u001b[0m\u001b[0mappend\u001b[0m\u001b[1;33m(\u001b[0m\u001b[0msp\u001b[0m\u001b[1;33m)\u001b[0m\u001b[1;33m\u001b[0m\u001b[1;33m\u001b[0m\u001b[0m\n\u001b[0;32m      7\u001b[0m     \u001b[0menergy_list\u001b[0m\u001b[1;33m.\u001b[0m\u001b[0mappend\u001b[0m\u001b[1;33m(\u001b[0m\u001b[0men\u001b[0m\u001b[1;33m)\u001b[0m\u001b[1;33m\u001b[0m\u001b[1;33m\u001b[0m\u001b[0m\n",
      "\u001b[1;32m<ipython-input-196-71d48157356f>\u001b[0m in \u001b[0;36mget_sp_heat_and_energy\u001b[1;34m(n, temp, breaking_iters)\u001b[0m\n\u001b[0;32m      1\u001b[0m \u001b[1;32mdef\u001b[0m \u001b[0mget_sp_heat_and_energy\u001b[0m\u001b[1;33m(\u001b[0m\u001b[0mn\u001b[0m\u001b[1;33m,\u001b[0m\u001b[0mtemp\u001b[0m\u001b[1;33m,\u001b[0m\u001b[0mbreaking_iters\u001b[0m\u001b[1;33m=\u001b[0m\u001b[1;36m3000\u001b[0m\u001b[1;33m)\u001b[0m\u001b[1;33m:\u001b[0m\u001b[1;33m\u001b[0m\u001b[1;33m\u001b[0m\u001b[0m\n\u001b[1;32m----> 2\u001b[1;33m     \u001b[0mpolar_list\u001b[0m\u001b[1;33m,\u001b[0m \u001b[0marr\u001b[0m \u001b[1;33m=\u001b[0m \u001b[0mequilibrate\u001b[0m\u001b[1;33m(\u001b[0m\u001b[0mn\u001b[0m\u001b[1;33m,\u001b[0m\u001b[0mtemp\u001b[0m\u001b[1;33m,\u001b[0m\u001b[0mbreaking_iters\u001b[0m\u001b[1;33m=\u001b[0m\u001b[0mbreaking_iters\u001b[0m\u001b[1;33m)\u001b[0m\u001b[1;33m\u001b[0m\u001b[1;33m\u001b[0m\u001b[0m\n\u001b[0m\u001b[0;32m      3\u001b[0m     \u001b[0menergy_list\u001b[0m\u001b[1;33m=\u001b[0m\u001b[1;33m[\u001b[0m\u001b[1;33m]\u001b[0m\u001b[1;33m\u001b[0m\u001b[1;33m\u001b[0m\u001b[0m\n\u001b[0;32m      4\u001b[0m     \u001b[1;32mfor\u001b[0m \u001b[0mi\u001b[0m \u001b[1;32min\u001b[0m \u001b[0mrange\u001b[0m\u001b[1;33m(\u001b[0m\u001b[1;36m100\u001b[0m\u001b[1;33m)\u001b[0m\u001b[1;33m:\u001b[0m\u001b[1;33m\u001b[0m\u001b[1;33m\u001b[0m\u001b[0m\n\u001b[0;32m      5\u001b[0m         \u001b[0marr\u001b[0m\u001b[1;33m=\u001b[0m\u001b[0mmetropolis_move\u001b[0m\u001b[1;33m(\u001b[0m\u001b[0marr\u001b[0m\u001b[1;33m,\u001b[0m\u001b[0mtemp\u001b[0m\u001b[1;33m)\u001b[0m\u001b[1;33m\u001b[0m\u001b[1;33m\u001b[0m\u001b[0m\n",
      "\u001b[1;32m<ipython-input-194-05a0ec20521c>\u001b[0m in \u001b[0;36mequilibrate\u001b[1;34m(n, temp, breaking_iters, eps, verbose)\u001b[0m\n\u001b[0;32m     13\u001b[0m             \u001b[0mprint\u001b[0m\u001b[1;33m(\u001b[0m\u001b[1;34mf\"Pol = {polval} and iter = {i}\"\u001b[0m\u001b[1;33m,\u001b[0m\u001b[0mend\u001b[0m\u001b[1;33m=\u001b[0m\u001b[1;34m\"\\r\"\u001b[0m\u001b[1;33m,\u001b[0m\u001b[0mflush\u001b[0m\u001b[1;33m=\u001b[0m\u001b[1;32mTrue\u001b[0m\u001b[1;33m)\u001b[0m\u001b[1;33m\u001b[0m\u001b[1;33m\u001b[0m\u001b[0m\n\u001b[0;32m     14\u001b[0m         \u001b[0marr\u001b[0m\u001b[1;33m=\u001b[0m\u001b[0mmetropolis_move\u001b[0m\u001b[1;33m(\u001b[0m\u001b[0marr\u001b[0m\u001b[1;33m,\u001b[0m\u001b[0mtemp\u001b[0m\u001b[1;33m,\u001b[0m\u001b[0meps\u001b[0m\u001b[1;33m=\u001b[0m\u001b[0meps\u001b[0m\u001b[1;33m)\u001b[0m\u001b[1;33m\u001b[0m\u001b[1;33m\u001b[0m\u001b[0m\n\u001b[1;32m---> 15\u001b[1;33m         \u001b[0mnewpolval\u001b[0m \u001b[1;33m=\u001b[0m \u001b[0mcalculate_polarization\u001b[0m\u001b[1;33m(\u001b[0m\u001b[0marr\u001b[0m\u001b[1;33m)\u001b[0m\u001b[1;33m\u001b[0m\u001b[1;33m\u001b[0m\u001b[0m\n\u001b[0m\u001b[0;32m     16\u001b[0m         \u001b[0mpolar_list\u001b[0m\u001b[1;33m.\u001b[0m\u001b[0mappend\u001b[0m\u001b[1;33m(\u001b[0m\u001b[0mpolval\u001b[0m\u001b[1;33m)\u001b[0m\u001b[1;33m\u001b[0m\u001b[1;33m\u001b[0m\u001b[0m\n\u001b[0;32m     17\u001b[0m         \u001b[0mpolval\u001b[0m\u001b[1;33m=\u001b[0m\u001b[0mnewpolval\u001b[0m\u001b[1;33m\u001b[0m\u001b[1;33m\u001b[0m\u001b[0m\n",
      "\u001b[1;32m<ipython-input-97-6c011b52b803>\u001b[0m in \u001b[0;36mcalculate_polarization\u001b[1;34m(arr)\u001b[0m\n\u001b[0;32m      9\u001b[0m     \u001b[1;32mfor\u001b[0m \u001b[0mi\u001b[0m \u001b[1;32min\u001b[0m \u001b[0marr\u001b[0m\u001b[1;33m:\u001b[0m\u001b[1;33m\u001b[0m\u001b[1;33m\u001b[0m\u001b[0m\n\u001b[0;32m     10\u001b[0m         \u001b[1;32mfor\u001b[0m \u001b[0mj\u001b[0m \u001b[1;32min\u001b[0m \u001b[0mi\u001b[0m\u001b[1;33m:\u001b[0m\u001b[1;33m\u001b[0m\u001b[1;33m\u001b[0m\u001b[0m\n\u001b[1;32m---> 11\u001b[1;33m             \u001b[0mvert\u001b[0m\u001b[1;33m+=\u001b[0m\u001b[0mj\u001b[0m\u001b[1;33m[\u001b[0m\u001b[1;36m0\u001b[0m\u001b[1;33m]\u001b[0m\u001b[1;33m\u001b[0m\u001b[1;33m\u001b[0m\u001b[0m\n\u001b[0m\u001b[0;32m     12\u001b[0m             \u001b[0mhor\u001b[0m\u001b[1;33m+=\u001b[0m\u001b[0mj\u001b[0m\u001b[1;33m[\u001b[0m\u001b[1;36m1\u001b[0m\u001b[1;33m]\u001b[0m\u001b[1;33m\u001b[0m\u001b[1;33m\u001b[0m\u001b[0m\n\u001b[0;32m     13\u001b[0m \u001b[1;33m\u001b[0m\u001b[0m\n",
      "\u001b[1;31mKeyboardInterrupt\u001b[0m: "
     ]
    }
   ],
   "source": [
    "sp_heat=[]\n",
    "energy_list=[]\n",
    "for temp in temp_arr:\n",
    "    print(f\"******* TEMP = {temp} *******\")\n",
    "    sp,en = get_sp_heat_and_energy(n=25,temp=temp,breaking_iters=4000)\n",
    "    sp_heat.append(sp)\n",
    "    energy_list.append(en)\n",
    "    "
   ]
  },
  {
   "cell_type": "code",
   "execution_count": 199,
   "metadata": {},
   "outputs": [
    {
     "data": {
      "text/plain": [
       "[0.0,\n",
       " 0.0,\n",
       " 0.0,\n",
       " 0.005638615260092449,\n",
       " 0.006420661775143827,\n",
       " 0.06059176763964942,\n",
       " 0.11877876538133131,\n",
       " 0.011929923230917693,\n",
       " 0.01643788290145522,\n",
       " 0.02101590269654791,\n",
       " 0.012248065733113276,\n",
       " 0.033980400450855534,\n",
       " 0.026939155584149877,\n",
       " 0.015159358953080153,\n",
       " 0.006309956137450506,\n",
       " 0.015967656115949812,\n",
       " 0.017587181461618185,\n",
       " 0.01070127030872959,\n",
       " 0.02213389925396296,\n",
       " 0.0055299816192984665,\n",
       " 0.017252111628879283,\n",
       " 0.004699069112797913,\n",
       " 0.009627587357306087,\n",
       " 0.004036762726520656,\n",
       " 0.008500178359589118,\n",
       " 0.011837986813159418,\n",
       " 0.005670948707844776,\n",
       " 0.0020837870786805284,\n",
       " 0.0063054218872226455,\n",
       " 0.004928000000000045]"
      ]
     },
     "execution_count": 199,
     "metadata": {},
     "output_type": "execute_result"
    }
   ],
   "source": [
    "sp_heat"
   ]
  },
  {
   "cell_type": "code",
   "execution_count": 200,
   "metadata": {},
   "outputs": [
    {
     "data": {
      "image/png": "[encoded data removed]",
      "text/plain": [
       "<Figure size 432x288 with 1 Axes>"
      ]
     },
     "metadata": {
      "needs_background": "light"
     },
     "output_type": "display_data"
    }
   ],
   "source": [
    "plt.plot(temp_arr,sp_heat)\n",
    "plt.xlabel(\"Temperature\")\n",
    "plt.ylabel(\"Specific Heat\")\n",
    "plt.title(\"T vs C\")\n",
    "plt.show()\n"
   ]
  },
  {
   "cell_type": "code",
   "execution_count": 203,
   "metadata": {},
   "outputs": [
    {
     "ename": "ValueError",
     "evalue": "x and y must have same first dimension, but have shapes (10,) and (1,)",
     "output_type": "error",
     "traceback": [
      "\u001b[1;31m---------------------------------------------------------------------------\u001b[0m",
      "\u001b[1;31mValueError\u001b[0m                                Traceback (most recent call last)",
      "\u001b[1;32m<ipython-input-203-0353cee2201b>\u001b[0m in \u001b[0;36m<module>\u001b[1;34m\u001b[0m\n\u001b[1;32m----> 1\u001b[1;33m \u001b[0mplt\u001b[0m\u001b[1;33m.\u001b[0m\u001b[0mplot\u001b[0m\u001b[1;33m(\u001b[0m\u001b[0mtemp_arr\u001b[0m\u001b[1;33m,\u001b[0m\u001b[0menergy_list\u001b[0m\u001b[1;33m)\u001b[0m\u001b[1;33m\u001b[0m\u001b[1;33m\u001b[0m\u001b[0m\n\u001b[0m\u001b[0;32m      2\u001b[0m \u001b[0mplt\u001b[0m\u001b[1;33m.\u001b[0m\u001b[0mxlabel\u001b[0m\u001b[1;33m(\u001b[0m\u001b[1;34m\"Temperature\"\u001b[0m\u001b[1;33m)\u001b[0m\u001b[1;33m\u001b[0m\u001b[1;33m\u001b[0m\u001b[0m\n\u001b[0;32m      3\u001b[0m \u001b[0mplt\u001b[0m\u001b[1;33m.\u001b[0m\u001b[0mylabel\u001b[0m\u001b[1;33m(\u001b[0m\u001b[1;34m\"Energy\"\u001b[0m\u001b[1;33m)\u001b[0m\u001b[1;33m\u001b[0m\u001b[1;33m\u001b[0m\u001b[0m\n\u001b[0;32m      4\u001b[0m \u001b[0mplt\u001b[0m\u001b[1;33m.\u001b[0m\u001b[0mtitle\u001b[0m\u001b[1;33m(\u001b[0m\u001b[1;34m\"E vs C\"\u001b[0m\u001b[1;33m)\u001b[0m\u001b[1;33m\u001b[0m\u001b[1;33m\u001b[0m\u001b[0m\n\u001b[0;32m      5\u001b[0m \u001b[0mplt\u001b[0m\u001b[1;33m.\u001b[0m\u001b[0mshow\u001b[0m\u001b[1;33m(\u001b[0m\u001b[1;33m)\u001b[0m\u001b[1;33m\u001b[0m\u001b[1;33m\u001b[0m\u001b[0m\n",
      "\u001b[1;32m~\\anaconda3\\lib\\site-packages\\matplotlib\\pyplot.py\u001b[0m in \u001b[0;36mplot\u001b[1;34m(scalex, scaley, data, *args, **kwargs)\u001b[0m\n\u001b[0;32m   2794\u001b[0m     return gca().plot(\n\u001b[0;32m   2795\u001b[0m         *args, scalex=scalex, scaley=scaley, **({\"data\": data} if data\n\u001b[1;32m-> 2796\u001b[1;33m         is not None else {}), **kwargs)\n\u001b[0m\u001b[0;32m   2797\u001b[0m \u001b[1;33m\u001b[0m\u001b[0m\n\u001b[0;32m   2798\u001b[0m \u001b[1;33m\u001b[0m\u001b[0m\n",
      "\u001b[1;32m~\\anaconda3\\lib\\site-packages\\matplotlib\\axes\\_axes.py\u001b[0m in \u001b[0;36mplot\u001b[1;34m(self, scalex, scaley, data, *args, **kwargs)\u001b[0m\n\u001b[0;32m   1663\u001b[0m         \"\"\"\n\u001b[0;32m   1664\u001b[0m         \u001b[0mkwargs\u001b[0m \u001b[1;33m=\u001b[0m \u001b[0mcbook\u001b[0m\u001b[1;33m.\u001b[0m\u001b[0mnormalize_kwargs\u001b[0m\u001b[1;33m(\u001b[0m\u001b[0mkwargs\u001b[0m\u001b[1;33m,\u001b[0m \u001b[0mmlines\u001b[0m\u001b[1;33m.\u001b[0m\u001b[0mLine2D\u001b[0m\u001b[1;33m.\u001b[0m\u001b[0m_alias_map\u001b[0m\u001b[1;33m)\u001b[0m\u001b[1;33m\u001b[0m\u001b[1;33m\u001b[0m\u001b[0m\n\u001b[1;32m-> 1665\u001b[1;33m         \u001b[0mlines\u001b[0m \u001b[1;33m=\u001b[0m \u001b[1;33m[\u001b[0m\u001b[1;33m*\u001b[0m\u001b[0mself\u001b[0m\u001b[1;33m.\u001b[0m\u001b[0m_get_lines\u001b[0m\u001b[1;33m(\u001b[0m\u001b[1;33m*\u001b[0m\u001b[0margs\u001b[0m\u001b[1;33m,\u001b[0m \u001b[0mdata\u001b[0m\u001b[1;33m=\u001b[0m\u001b[0mdata\u001b[0m\u001b[1;33m,\u001b[0m \u001b[1;33m**\u001b[0m\u001b[0mkwargs\u001b[0m\u001b[1;33m)\u001b[0m\u001b[1;33m]\u001b[0m\u001b[1;33m\u001b[0m\u001b[1;33m\u001b[0m\u001b[0m\n\u001b[0m\u001b[0;32m   1666\u001b[0m         \u001b[1;32mfor\u001b[0m \u001b[0mline\u001b[0m \u001b[1;32min\u001b[0m \u001b[0mlines\u001b[0m\u001b[1;33m:\u001b[0m\u001b[1;33m\u001b[0m\u001b[1;33m\u001b[0m\u001b[0m\n\u001b[0;32m   1667\u001b[0m             \u001b[0mself\u001b[0m\u001b[1;33m.\u001b[0m\u001b[0madd_line\u001b[0m\u001b[1;33m(\u001b[0m\u001b[0mline\u001b[0m\u001b[1;33m)\u001b[0m\u001b[1;33m\u001b[0m\u001b[1;33m\u001b[0m\u001b[0m\n",
      "\u001b[1;32m~\\anaconda3\\lib\\site-packages\\matplotlib\\axes\\_base.py\u001b[0m in \u001b[0;36m__call__\u001b[1;34m(self, *args, **kwargs)\u001b[0m\n\u001b[0;32m    223\u001b[0m                 \u001b[0mthis\u001b[0m \u001b[1;33m+=\u001b[0m \u001b[0margs\u001b[0m\u001b[1;33m[\u001b[0m\u001b[1;36m0\u001b[0m\u001b[1;33m]\u001b[0m\u001b[1;33m,\u001b[0m\u001b[1;33m\u001b[0m\u001b[1;33m\u001b[0m\u001b[0m\n\u001b[0;32m    224\u001b[0m                 \u001b[0margs\u001b[0m \u001b[1;33m=\u001b[0m \u001b[0margs\u001b[0m\u001b[1;33m[\u001b[0m\u001b[1;36m1\u001b[0m\u001b[1;33m:\u001b[0m\u001b[1;33m]\u001b[0m\u001b[1;33m\u001b[0m\u001b[1;33m\u001b[0m\u001b[0m\n\u001b[1;32m--> 225\u001b[1;33m             \u001b[1;32myield\u001b[0m \u001b[1;32mfrom\u001b[0m \u001b[0mself\u001b[0m\u001b[1;33m.\u001b[0m\u001b[0m_plot_args\u001b[0m\u001b[1;33m(\u001b[0m\u001b[0mthis\u001b[0m\u001b[1;33m,\u001b[0m \u001b[0mkwargs\u001b[0m\u001b[1;33m)\u001b[0m\u001b[1;33m\u001b[0m\u001b[1;33m\u001b[0m\u001b[0m\n\u001b[0m\u001b[0;32m    226\u001b[0m \u001b[1;33m\u001b[0m\u001b[0m\n\u001b[0;32m    227\u001b[0m     \u001b[1;32mdef\u001b[0m \u001b[0mget_next_color\u001b[0m\u001b[1;33m(\u001b[0m\u001b[0mself\u001b[0m\u001b[1;33m)\u001b[0m\u001b[1;33m:\u001b[0m\u001b[1;33m\u001b[0m\u001b[1;33m\u001b[0m\u001b[0m\n",
      "\u001b[1;32m~\\anaconda3\\lib\\site-packages\\matplotlib\\axes\\_base.py\u001b[0m in \u001b[0;36m_plot_args\u001b[1;34m(self, tup, kwargs)\u001b[0m\n\u001b[0;32m    389\u001b[0m             \u001b[0mx\u001b[0m\u001b[1;33m,\u001b[0m \u001b[0my\u001b[0m \u001b[1;33m=\u001b[0m \u001b[0mindex_of\u001b[0m\u001b[1;33m(\u001b[0m\u001b[0mtup\u001b[0m\u001b[1;33m[\u001b[0m\u001b[1;33m-\u001b[0m\u001b[1;36m1\u001b[0m\u001b[1;33m]\u001b[0m\u001b[1;33m)\u001b[0m\u001b[1;33m\u001b[0m\u001b[1;33m\u001b[0m\u001b[0m\n\u001b[0;32m    390\u001b[0m \u001b[1;33m\u001b[0m\u001b[0m\n\u001b[1;32m--> 391\u001b[1;33m         \u001b[0mx\u001b[0m\u001b[1;33m,\u001b[0m \u001b[0my\u001b[0m \u001b[1;33m=\u001b[0m \u001b[0mself\u001b[0m\u001b[1;33m.\u001b[0m\u001b[0m_xy_from_xy\u001b[0m\u001b[1;33m(\u001b[0m\u001b[0mx\u001b[0m\u001b[1;33m,\u001b[0m \u001b[0my\u001b[0m\u001b[1;33m)\u001b[0m\u001b[1;33m\u001b[0m\u001b[1;33m\u001b[0m\u001b[0m\n\u001b[0m\u001b[0;32m    392\u001b[0m \u001b[1;33m\u001b[0m\u001b[0m\n\u001b[0;32m    393\u001b[0m         \u001b[1;32mif\u001b[0m \u001b[0mself\u001b[0m\u001b[1;33m.\u001b[0m\u001b[0mcommand\u001b[0m \u001b[1;33m==\u001b[0m \u001b[1;34m'plot'\u001b[0m\u001b[1;33m:\u001b[0m\u001b[1;33m\u001b[0m\u001b[1;33m\u001b[0m\u001b[0m\n",
      "\u001b[1;32m~\\anaconda3\\lib\\site-packages\\matplotlib\\axes\\_base.py\u001b[0m in \u001b[0;36m_xy_from_xy\u001b[1;34m(self, x, y)\u001b[0m\n\u001b[0;32m    268\u001b[0m         \u001b[1;32mif\u001b[0m \u001b[0mx\u001b[0m\u001b[1;33m.\u001b[0m\u001b[0mshape\u001b[0m\u001b[1;33m[\u001b[0m\u001b[1;36m0\u001b[0m\u001b[1;33m]\u001b[0m \u001b[1;33m!=\u001b[0m \u001b[0my\u001b[0m\u001b[1;33m.\u001b[0m\u001b[0mshape\u001b[0m\u001b[1;33m[\u001b[0m\u001b[1;36m0\u001b[0m\u001b[1;33m]\u001b[0m\u001b[1;33m:\u001b[0m\u001b[1;33m\u001b[0m\u001b[1;33m\u001b[0m\u001b[0m\n\u001b[0;32m    269\u001b[0m             raise ValueError(\"x and y must have same first dimension, but \"\n\u001b[1;32m--> 270\u001b[1;33m                              \"have shapes {} and {}\".format(x.shape, y.shape))\n\u001b[0m\u001b[0;32m    271\u001b[0m         \u001b[1;32mif\u001b[0m \u001b[0mx\u001b[0m\u001b[1;33m.\u001b[0m\u001b[0mndim\u001b[0m \u001b[1;33m>\u001b[0m \u001b[1;36m2\u001b[0m \u001b[1;32mor\u001b[0m \u001b[0my\u001b[0m\u001b[1;33m.\u001b[0m\u001b[0mndim\u001b[0m \u001b[1;33m>\u001b[0m \u001b[1;36m2\u001b[0m\u001b[1;33m:\u001b[0m\u001b[1;33m\u001b[0m\u001b[1;33m\u001b[0m\u001b[0m\n\u001b[0;32m    272\u001b[0m             raise ValueError(\"x and y can be no greater than 2-D, but have \"\n",
      "\u001b[1;31mValueError\u001b[0m: x and y must have same first dimension, but have shapes (10,) and (1,)"
     ]
    },
    {
     "data": {
      "image/png": "[encoded data removed]",
      "text/plain": [
       "<Figure size 432x288 with 1 Axes>"
      ]
     },
     "metadata": {
      "needs_background": "light"
     },
     "output_type": "display_data"
    }
   ],
   "source": [
    "plt.plot(temp_arr,energy_list)\n",
    "plt.xlabel(\"Temperature\")\n",
    "plt.ylabel(\"Energy\")\n",
    "plt.title(\"E vs C\")\n",
    "plt.show()\n"
   ]
  },
  {
   "cell_type": "code",
   "execution_count": 205,
   "metadata": {},
   "outputs": [],
   "source": [
    "# def get_spec_heat(arr,temperature,energy,eps=1):#eps is energy for config 5\n",
    "#     '''\n",
    "#     Author: Vinay Patil\n",
    "#     ~Function Description~\n",
    "#     '''\n",
    "# #     kb=1.38064 *10**(-23)\n",
    "#     kb=1\n",
    "#     diversion=np.zeros(n)\n",
    "#     energy_div=np.zeros(n)\n",
    "#     spec_heat=np.zeros(n)\n",
    "#     n=len(temperature)\n",
    "#     N=len(arr)\n",
    "\n",
    "#     for i in range(n):\n",
    "#         if i==0:\n",
    "#             spec_heat[i]=abs(energy[i+1]-energy[i])/h #O(h) differentiation at the end points\n",
    "#         elif i==n-1:\n",
    "#             spec_heat[i]=abs(energy[i]-energy[i-1])/h #O(h) differentiation at the end points\n",
    "#         else:\n",
    "#             spec_heat[i]=abs((energy[i+1]-energy[i-1])/2*h) #O(h^2) differentiation\n",
    "#             diversion[i]=abs((spec_heat[i]/N**2)-kb*((ln2)**2)*(28/45))\n",
    "#             energy_div[i]=abs((energy[i]/N**2)-(eps/3))\n",
    "\n",
    "#     minpos = diversion.index(min(diversion))\n",
    "#     print(\"The critical temp found is at\",temp_plot[minpos]) #ye minpos +1 kar\n",
    "#     print(\"The error in Specific Heat per vertex is\",min(diversion))                                \n",
    "#     plt.scatter(temperature, spec_heat)\n",
    "#     plt.plot(temperature, spec_heat)\n",
    "#     plt.xlabel(\"Temperature\")\n",
    "#     plt.ylabel(\"Specific Heat\")\n",
    "#     plt.title(\"T vs C\")\n",
    "#     plt.show()\n",
    "#     return spec_heat"
   ]
  },
  {
   "cell_type": "code",
   "execution_count": null,
   "metadata": {},
   "outputs": [],
   "source": []
  },
  {
   "cell_type": "code",
   "execution_count": null,
   "metadata": {},
   "outputs": [],
   "source": []
  },
  {
   "cell_type": "code",
   "execution_count": null,
   "metadata": {},
   "outputs": [],
   "source": []
  },
  {
   "cell_type": "code",
   "execution_count": null,
   "metadata": {},
   "outputs": [],
   "source": []
  },
  {
   "cell_type": "code",
   "execution_count": null,
   "metadata": {},
   "outputs": [],
   "source": []
  },
  {
   "cell_type": "code",
   "execution_count": null,
   "metadata": {},
   "outputs": [],
   "source": []
  },
  {
   "cell_type": "code",
   "execution_count": null,
   "metadata": {},
   "outputs": [],
   "source": []
  },
  {
   "cell_type": "markdown",
   "metadata": {},
   "source": [
    "## ERROR MODELLING: TRUE AND APPROX ERROR COMPARISONS FOR N=1,2,3,4,5"
   ]
  },
  {
   "cell_type": "code",
   "execution_count": 33,
   "metadata": {},
   "outputs": [],
   "source": [
    "true_val_dict = {1:4,2:18,3:148,4:2940,5:142815}"
   ]
  },
  {
   "cell_type": "code",
   "execution_count": 23,
   "metadata": {},
   "outputs": [],
   "source": [
    "def count_states_err(num,error_threshold,return_dict = False,verbose=False):\n",
    "    true_err_list = []\n",
    "    approx_err_list = []\n",
    "    if not (error_threshold<=100 and error_threshold>0):\n",
    "        print(\"Error! Please input error_threshold as a value between 0 and 100\")\n",
    "        assert (error_threshold<=100 and error_threshold>0)\n",
    "    state_dict={}\n",
    "    oldarr = long_loop(initialise_state(num), verbose=False)\n",
    "    good_iterations = 0           #Iterations that gave us a new state, so good.\n",
    "    bad_iterations = 0               #Iterations that gave us an already found state,so a waste and hence bad.\n",
    "    while True:\n",
    "        newarr = long_loop(oldarr,verbose=False)\n",
    "        name =arr_to_string(newarr)\n",
    "        if name not in state_dict:\n",
    "            count_repetitions=0\n",
    "            state_dict[name]=1\n",
    "            good_iterations+=1\n",
    "        else:\n",
    "            bad_iterations+=1\n",
    "            count_repetitions+=1\n",
    "            state_dict[name]+=1\n",
    "        percent_approx_err=good_iterations*100/(good_iterations+bad_iterations)\n",
    "        if verbose:\n",
    "            print(f\"Good iterations = {good_iterations} and bad iterations = {bad_iterations} and Error % = {percent_approx_err}\", end=\"\\r\",flush=True)\n",
    "        true_err_list.append((true_val_dict[num] - good_iterations)*100/true_val_dict[num])\n",
    "        approx_err_list.append(percent_approx_err)\n",
    "        if percent_approx_err < error_threshold:\n",
    "            break\n",
    "        oldarr=newarr\n",
    "    if return_dict:\n",
    "        return len(state_dict),state_dict,true_err_list,approx_err_list\n",
    "    else:\n",
    "        return len(state_dict),true_err_list,approx_err_list"
   ]
  },
  {
   "cell_type": "code",
   "execution_count": null,
   "metadata": {},
   "outputs": [],
   "source": [
    "count_states_err(4,5,verbose=True)"
   ]
  },
  {
   "cell_type": "code",
   "execution_count": 28,
   "metadata": {
    "scrolled": true
   },
   "outputs": [
    {
     "name": "stdout",
     "output_type": "stream",
     "text": [
      "************ N = 1 ************\n",
      "Completed in 0.0 seconds.\n",
      "************ N = 2 ************\n",
      "Completed in 0.03125 seconds.\n",
      "************ N = 3 ************\n",
      "Completed in 0.453125 seconds.\n",
      "************ N = 4 ************\n",
      "Completed in 13.65625 seconds.\n",
      "************ N = 5 ************\n",
      "Completed in 885.5 seconds.\n"
     ]
    }
   ],
   "source": [
    "errorlistdict={}\n",
    "for n in true_val_dict.keys():\n",
    "    t1=time.process_time()\n",
    "    print(f\"************ N = {n} ************\")\n",
    "    cnt, true_err_list,approx_err_list = count_states_err(n,5)\n",
    "    errorlistdict[n]=[true_err_list,approx_err_list]\n",
    "    t2=time.process_time()\n",
    "    print(f\"Completed in {t2-t1} seconds.\")"
   ]
  },
  {
   "cell_type": "code",
   "execution_count": 29,
   "metadata": {},
   "outputs": [
    {
     "data": {
      "image/png": "[encoded data removed]",
      "text/plain": [
       "<Figure size 432x288 with 1 Axes>"
      ]
     },
     "metadata": {
      "needs_background": "light"
     },
     "output_type": "display_data"
    },
    {
     "data": {
      "image/png": "[encoded data removed]",
      "text/plain": [
       "<Figure size 432x288 with 1 Axes>"
      ]
     },
     "metadata": {
      "needs_background": "light"
     },
     "output_type": "display_data"
    },
    {
     "data": {
      "image/png": "[encoded data removed]",
      "text/plain": [
       "<Figure size 432x288 with 1 Axes>"
      ]
     },
     "metadata": {
      "needs_background": "light"
     },
     "output_type": "display_data"
    },
    {
     "data": {
      "image/png": "[encoded data removed]",
      "text/plain": [
       "<Figure size 432x288 with 1 Axes>"
      ]
     },
     "metadata": {
      "needs_background": "light"
     },
     "output_type": "display_data"
    },
    {
     "name": "stderr",
     "output_type": "stream",
     "text": [
      "C:\\Users\\Sid\\anaconda3\\lib\\site-packages\\IPython\\core\\pylabtools.py:132: UserWarning: Creating legend with loc=\"best\" can be slow with large amounts of data.\n",
      "  fig.canvas.print_figure(bytes_io, **kw)\n"
     ]
    },
    {
     "data": {
      "image/png": "[encoded data removed]",
      "text/plain": [
       "<Figure size 432x288 with 1 Axes>"
      ]
     },
     "metadata": {
      "needs_background": "light"
     },
     "output_type": "display_data"
    }
   ],
   "source": [
    "for n in errorlistdict.keys():\n",
    "    true=errorlistdict[n][0]\n",
    "    approx=errorlistdict[n][1]\n",
    "    plt.plot(true, label='True Error')\n",
    "    plt.plot(approx, label='Approx Error')\n",
    "    plt.legend()\n",
    "    plt.title(f\"For {n}x{n} grid\")\n",
    "    plt.xlabel(\"No. of iterations\")\n",
    "    plt.ylabel(\"% Error\")\n",
    "    plt.show()"
   ]
  }
 ],
 "metadata": {
  "kernelspec": {
   "display_name": "Python 3",
   "language": "python",
   "name": "python3"
  },
  "language_info": {
   "codemirror_mode": {
    "name": "ipython",
    "version": 3
   },
   "file_extension": ".py",
   "mimetype": "text/x-python",
   "name": "python",
   "nbconvert_exporter": "python",
   "pygments_lexer": "ipython3",
   "version": "3.7.7"
  }
 },
 "nbformat": 4,
 "nbformat_minor": 4
}
