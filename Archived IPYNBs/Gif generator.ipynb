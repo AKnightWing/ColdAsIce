{
 "cells": [
  {
   "cell_type": "code",
   "execution_count": 2,
   "metadata": {},
   "outputs": [],
   "source": [
    "import numpy as np\n",
    "from PIL import Image, ImageDraw\n",
    "import glob\n",
    "import os"
   ]
  },
  {
   "cell_type": "code",
   "execution_count": 30,
   "metadata": {},
   "outputs": [],
   "source": [
    "def generate_gif(input_dir,output_dir,framerate):\n",
    "    frames = []\n",
    "    dirname = input_dir\n",
    "    temperatures = []\n",
    "    for i in os.listdir(dirname):\n",
    "        t = (i.split('T = '))[1].split(' K.png')[0]\n",
    "        temperatures.append(float(t))\n",
    "    temperatures.sort()\n",
    "\n",
    "    filenames = []\n",
    "    for j in temperatures:\n",
    "        filenames.append(dirname + '/' + 'T = ' + str(j) + ' K.png')\n",
    "\n",
    "    for i in filenames:\n",
    "        frames.append(Image.open(i))\n",
    "    gifname = output_dir + 'Movie.gif'\n",
    "    duration = int(1000/framerate)\n",
    "    frames[0].save(gifname, format='GIF',append_images=frames[1:],save_all=True,duration=duration, loop=1)\n",
    "\n"
   ]
  },
  {
   "cell_type": "code",
   "execution_count": 29,
   "metadata": {},
   "outputs": [],
   "source": [
    "frames = []\n",
    "dirname = '/home/siddharthb17/Ice images/Set 2'\n",
    "temperatures = []\n",
    "for i in os.listdir(dirname):\n",
    "    t = (i.split('T = '))[1].split(' K.png')[0]\n",
    "    temperatures.append(float(t))\n",
    "temperatures.sort()\n",
    "\n",
    "filenames = []\n",
    "for j in temperatures:\n",
    "    filenames.append(dirname + '/' + 'T = ' + str(j) + ' K.png')\n",
    "\n",
    "for i in filenames:\n",
    "    frames.append(Image.open(i))\n",
    "\n",
    "frames[0].save('/home/siddharthb17/Ice images/Le_movie100.gif', format='GIF',append_images=frames[1:],save_all=True,duration=100, loop=1)\n",
    "\n"
   ]
  },
  {
   "cell_type": "code",
   "execution_count": null,
   "metadata": {},
   "outputs": [],
   "source": []
  }
 ],
 "metadata": {
  "kernelspec": {
   "display_name": "Python 3",
   "language": "python",
   "name": "python3"
  },
  "language_info": {
   "codemirror_mode": {
    "name": "ipython",
    "version": 3
   },
   "file_extension": ".py",
   "mimetype": "text/x-python",
   "name": "python",
   "nbconvert_exporter": "python",
   "pygments_lexer": "ipython3",
   "version": "3.7.6"
  }
 },
 "nbformat": 4,
 "nbformat_minor": 4
}
