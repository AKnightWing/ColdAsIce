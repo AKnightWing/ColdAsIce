{
 "cells": [
  {
   "cell_type": "code",
   "execution_count": 1,
   "metadata": {},
   "outputs": [],
   "source": [
    "import numpy as np\n",
    "from matplotlib import pyplot as plt \n",
    "import copy"
   ]
  },
  {
   "cell_type": "code",
   "execution_count": 2,
   "metadata": {},
   "outputs": [],
   "source": [
    "#This corresponds to pic in book\n",
    "arr = [[[-1,1],[-1,1],[1,-1],[-1,1]],\n",
    "       [[-1,-1],[-1,-1],[-1,1],[1,-1]],\n",
    "       [[-1,1],[-1,1],[1,1],[-1,1]],\n",
    "       [[-1,1],[-1,1],[1,1],[-1,1]]]\n",
    "arr = np.array(arr)"
   ]
  },
  {
   "cell_type": "code",
   "execution_count": 3,
   "metadata": {},
   "outputs": [],
   "source": [
    "def initialise_state(N): #N is the grid dimension (in the above example, N=4)\n",
    "    '''\n",
    "    Author: Siddharth Bachoti\n",
    "    ~Function Description~\n",
    "    '''\n",
    "    grid = np.ones((N,N,2),dtype=int)\n",
    "    \n",
    "    return np.array(grid)\n"
   ]
  },
  {
   "cell_type": "code",
   "execution_count": 4,
   "metadata": {},
   "outputs": [],
   "source": [
    "def plot_vector(p1,p2):\n",
    "    p1 = np.array(p1)\n",
    "    p2 = np.array(p2)\n",
    "    dp = p2-p1\n",
    "    plt.quiver(p1[0], p1[1], dp[0], dp[1],angles='xy', scale_units='xy', scale=1, headwidth = 5, headlength = 7)\n",
    "\n",
    "def get_coord_list(arr):\n",
    "    coord_list=[]\n",
    "    num = len(arr)\n",
    "    for i in range(num):\n",
    "        temp_coord = []\n",
    "        for j in range(num):\n",
    "            current_elems = arr[i][j]\n",
    "            xpt = (num-1)-i\n",
    "            ypt = j\n",
    "            temp_coord.append((xpt,ypt))\n",
    "        coord_list.append(temp_coord)\n",
    "    return coord_list\n",
    "\n",
    "def visualise_2d_model(arr):\n",
    "    '''\n",
    "    Buggy\n",
    "    '''\n",
    "    num = len(arr)\n",
    "    plt.axes().set_aspect('equal')\n",
    "    coord_list = get_coord_list(arr)\n",
    "    for i in range(num):\n",
    "        for j in range(num):\n",
    "            current_up_state = arr[i][j][0]\n",
    "            current_right_state = arr[i][j][1]\n",
    "            x_current = coord_list[i][j][0]\n",
    "            y_current = coord_list[i][j][1]\n",
    "\n",
    "            left_neighbour_right_state = arr[i][j-1][1]\n",
    "            x_left = coord_list[i][j-1][0]\n",
    "            y_left = coord_list[i][j-1][1]\n",
    "\n",
    "            lower_neighbour_up_state = arr[(i+1)%num][j][0]\n",
    "            x_up = coord_list[i-1][j][0]\n",
    "            y_up = coord_list[i-1][j][1]\n",
    "\n",
    "            current_left_state = -(left_neighbour_right_state)\n",
    "            current_down_state = -(lower_neighbour_up_state)\n",
    "\n",
    "            plt.plot(x_current,y_current,'ob')\n",
    "\n",
    "            if current_up_state == 1:\n",
    "                plot_vector([x_current,y_current],[x_current,y_current+1])\n",
    "            elif current_up_state == -1:\n",
    "                plot_vector([x_current,y_current+1],[x_current,y_current])\n",
    "\n",
    "            if current_right_state == 1:\n",
    "                plot_vector([x_current,y_current],[x_current+1,y_current])\n",
    "            elif current_right_state == -1:\n",
    "                plot_vector([x_current+1,y_current],[x_current,y_current])\n",
    "\n",
    "            if current_down_state == 1:\n",
    "                plot_vector([x_current,y_current],[x_current,y_current-1])\n",
    "            elif current_down_state == -1:\n",
    "                plot_vector([x_current,y_current-1],[x_current,y_current])\n",
    "\n",
    "            if current_left_state == 1:\n",
    "                plot_vector([x_current,y_current],[x_current-1,y_current])\n",
    "            elif current_left_state == -1:\n",
    "                plot_vector([x_current-1,y_current],[x_current,y_current])\n",
    "\n",
    "    plt.xlim(-1,num+1)\n",
    "    plt.ylim(-1,num+1)\n",
    "    plt.axis('off')\n",
    "    plt.show()\n",
    "    plt.close()\n"
   ]
  },
  {
   "cell_type": "code",
   "execution_count": 5,
   "metadata": {},
   "outputs": [],
   "source": [
    "def check_config(arr):\n",
    "    '''\n",
    "    Author: Tanmay Bhore\n",
    "    '''\n",
    "    flag=True\n",
    "    N=len(arr)\n",
    "    for i in range(len(arr)):\n",
    "        for j in range(len(arr)):\n",
    "            \n",
    "            current_up_state = arr[i][j][0]\n",
    "            current_right_state = arr[i][j][1]\n",
    "\n",
    "            lower_neighbour_up_state = arr[(i+1)%N][j][0]\n",
    "            \n",
    "            left_neighbour_right_state = arr[i][j-1][1]\n",
    "\n",
    "\n",
    "            current_left_state = -(left_neighbour_right_state)\n",
    "            current_down_state = -(lower_neighbour_up_state)\n",
    "            \n",
    "            if (current_up_state + current_right_state + current_left_state + current_down_state) != 0:\n",
    "                flag=False\n",
    "                break\n",
    "    return flag"
   ]
  },
  {
   "cell_type": "code",
   "execution_count": 6,
   "metadata": {},
   "outputs": [],
   "source": [
    "def long_loop(arr2, verbose=True):\n",
    "    '''\n",
    "    Author: Team ℏ\n",
    "    '''\n",
    "    arr = copy.deepcopy(arr2)\n",
    "    N=len(arr)\n",
    "    iters=0\n",
    "    \n",
    "    n1 = np.random.randint(low=0, high=N)\n",
    "    n2 = np.random.randint(low=0, high=N)\n",
    "    inital_pt =(n1,n2)\n",
    "    prev_choice=None\n",
    "    \n",
    "    while True:\n",
    "        iters+=1\n",
    "        if n1==inital_pt[0] and n2==inital_pt[1] and iters!=1:\n",
    "            if verbose:\n",
    "                print(f\"Completed in {iters} iterations.\")\n",
    "#             assert(check_config(arr))\n",
    "            break\n",
    "        current_up_state = arr[n1][n2][0]\n",
    "        current_right_state = arr[n1][n2][1]\n",
    "\n",
    "        lower_neighbour_up_state = arr[(n1+1)%N][n2][0]\n",
    "        left_neighbour_right_state = arr[n1][n2-1][1]\n",
    "\n",
    "        current_down_state = -(lower_neighbour_up_state)    \n",
    "        current_left_state = -(left_neighbour_right_state)\n",
    "\n",
    "        current_states_dict = {\"up\":current_up_state,\"right\":current_right_state,\"down\":current_down_state,\"left\":current_left_state}\n",
    "        outgoing_state_dict={}\n",
    "        incoming_state_dict={}\n",
    "\n",
    "        for key in current_states_dict.keys():\n",
    "            if current_states_dict[key]==1:  #current state is outgoing\n",
    "                outgoing_state_dict[key]=current_states_dict[key]\n",
    "            else:\n",
    "                incoming_state_dict[key]=current_states_dict[key]\n",
    "\n",
    "        if prev_choice ==\"right\":\n",
    "            forbidden_choice=\"left\"\n",
    "        if prev_choice ==\"up\":\n",
    "            forbidden_choice=\"down\"\n",
    "        if prev_choice ==\"left\":\n",
    "            forbidden_choice=\"right\"\n",
    "        if prev_choice ==\"down\":\n",
    "            forbidden_choice=\"up\"\n",
    "        else:\n",
    "            forbidden_choice=None\n",
    "\n",
    "\n",
    "        while True:\n",
    "            out_choice = np.random.choice(list(outgoing_state_dict.keys()))\n",
    "            if out_choice !=forbidden_choice:\n",
    "                break\n",
    "\n",
    "        prev_choice=out_choice\n",
    "\n",
    "        if out_choice == \"up\":\n",
    "            arr[n1][n2][0]= - (arr[n1][n2][0])\n",
    "            n1=(n1-1)%N\n",
    "            n2=n2\n",
    "            continue\n",
    "\n",
    "        if out_choice == \"right\":\n",
    "            arr[n1][n2][1]= - (arr[n1][n2][1])\n",
    "            n1=n1\n",
    "            n2=(n2+1)%N\n",
    "            continue\n",
    "\n",
    "        if out_choice == \"down\":\n",
    "            arr[(n1+1)%N][n2][0]= - (arr[(n1+1)%N][n2][0])\n",
    "            n1=(n1+1)%N\n",
    "            n2=n2\n",
    "            continue\n",
    "\n",
    "        if out_choice == \"left\":\n",
    "            arr[n1][(n2-1)%N][1]= - (arr[n1][(n2-1)%N][1])\n",
    "            n1=n1\n",
    "            n2=(n2-1)%N\n",
    "            continue\n",
    "\n",
    "\n",
    "\n",
    "    return arr"
   ]
  },
  {
   "cell_type": "code",
   "execution_count": 7,
   "metadata": {},
   "outputs": [],
   "source": [
    "name = ' '.join(map(str, arr.flatten())).replace(' ','')"
   ]
  },
  {
   "cell_type": "code",
   "execution_count": 8,
   "metadata": {},
   "outputs": [
    {
     "data": {
      "text/plain": [
       "'-11-111-1-11-1-1-1-1-111-1-11-1111-11-11-1111-11'"
      ]
     },
     "execution_count": 8,
     "metadata": {},
     "output_type": "execute_result"
    }
   ],
   "source": [
    "name"
   ]
  },
  {
   "cell_type": "code",
   "execution_count": null,
   "metadata": {},
   "outputs": [],
   "source": []
  },
  {
   "cell_type": "code",
   "execution_count": null,
   "metadata": {},
   "outputs": [],
   "source": []
  },
  {
   "cell_type": "code",
   "execution_count": null,
   "metadata": {},
   "outputs": [],
   "source": []
  },
  {
   "cell_type": "code",
   "execution_count": null,
   "metadata": {},
   "outputs": [],
   "source": []
  },
  {
   "cell_type": "code",
   "execution_count": null,
   "metadata": {},
   "outputs": [],
   "source": []
  },
  {
   "cell_type": "code",
   "execution_count": null,
   "metadata": {},
   "outputs": [],
   "source": []
  },
  {
   "cell_type": "markdown",
   "metadata": {},
   "source": [
    "## DEBUGGING"
   ]
  },
  {
   "cell_type": "code",
   "execution_count": 9,
   "metadata": {},
   "outputs": [
    {
     "name": "stdout",
     "output_type": "stream",
     "text": [
      "Completed in 3 iterations.\n",
      "Completed in 3 iterations.\n",
      "Completed in 3 iterations.\n",
      "Completed in 199 iterations.\n",
      "Completed in 7 iterations.\n",
      "Completed in 289 iterations.\n",
      "Completed in 3 iterations.\n",
      "Completed in 3 iterations.\n"
     ]
    }
   ],
   "source": [
    "for i in range(8):\n",
    "    newarr = long_loop(initialise_state(20))\n",
    "    check_config(newarr)"
   ]
  },
  {
   "cell_type": "code",
   "execution_count": null,
   "metadata": {},
   "outputs": [],
   "source": []
  },
  {
   "cell_type": "code",
   "execution_count": null,
   "metadata": {},
   "outputs": [],
   "source": []
  },
  {
   "cell_type": "code",
   "execution_count": 10,
   "metadata": {},
   "outputs": [
    {
     "data": {
      "image/png": "[encoded data removed]",
      "text/plain": [
       "<Figure size 432x288 with 1 Axes>"
      ]
     },
     "metadata": {
      "needs_background": "light"
     },
     "output_type": "display_data"
    }
   ],
   "source": [
    "arr2 = np.array(\n",
    "    [\n",
    "        [[1,1],[1,1]],\n",
    "        [[1,1],[1,1]]\n",
    "    ]\n",
    ")\n",
    "visualise_2d_model(arr2)"
   ]
  },
  {
   "cell_type": "code",
   "execution_count": 11,
   "metadata": {},
   "outputs": [
    {
     "data": {
      "image/png": "[encoded data removed]",
      "text/plain": [
       "<Figure size 432x288 with 1 Axes>"
      ]
     },
     "metadata": {
      "needs_background": "light"
     },
     "output_type": "display_data"
    }
   ],
   "source": [
    "arr3 = np.array(\n",
    "    [\n",
    "        [[1,1],[1,1],[1,1]],\n",
    "        [[1,1],[1,1],[1,1]],\n",
    "        [[1,1],[1,1],[1,1]]\n",
    "    ]\n",
    ")\n",
    "visualise_2d_model(arr3)"
   ]
  },
  {
   "cell_type": "code",
   "execution_count": 12,
   "metadata": {
    "scrolled": true
   },
   "outputs": [
    {
     "data": {
      "image/png": "[encoded data removed]",
      "text/plain": [
       "<Figure size 432x288 with 1 Axes>"
      ]
     },
     "metadata": {
      "needs_background": "light"
     },
     "output_type": "display_data"
    }
   ],
   "source": [
    "arr4 = np.array(\n",
    "    [\n",
    "        [[-1,-1],[-1,-1],[-1,-1]],\n",
    "        [[-1,-1],[-1,-1],[-1,-1]],\n",
    "        [[-1,-1],[-1,-1],[-1,-1]]\n",
    "    ]\n",
    ")\n",
    "visualise_2d_model(arr4)"
   ]
  }
 ],
 "metadata": {
  "kernelspec": {
   "display_name": "Python 3",
   "language": "python",
   "name": "python3"
  },
  "language_info": {
   "codemirror_mode": {
    "name": "ipython",
    "version": 3
   },
   "file_extension": ".py",
   "mimetype": "text/x-python",
   "name": "python",
   "nbconvert_exporter": "python",
   "pygments_lexer": "ipython3",
   "version": "3.7.7"
  }
 },
 "nbformat": 4,
 "nbformat_minor": 4
}
