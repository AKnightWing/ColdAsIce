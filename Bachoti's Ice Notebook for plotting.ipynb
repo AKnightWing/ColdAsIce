{
 "cells": [
  {
   "cell_type": "code",
   "execution_count": 9,
   "metadata": {},
   "outputs": [],
   "source": [
    "import numpy as np\n",
    "import copy\n",
    "import matplotlib.pyplot as plt"
   ]
  },
  {
   "cell_type": "code",
   "execution_count": 11,
   "metadata": {},
   "outputs": [],
   "source": [
    "def long_loop(arr2, verbose=True):\n",
    "    '''\n",
    "    Author: Team ℏ\n",
    "    '''\n",
    "    arr = copy.deepcopy(arr2)\n",
    "    N=len(arr)\n",
    "    iters=0\n",
    "    \n",
    "    n1 = np.random.randint(low=0, high=N)\n",
    "    n2 = np.random.randint(low=0, high=N)\n",
    "    inital_pt =(n1,n2)\n",
    "    prev_choice=None\n",
    "    \n",
    "    while True:\n",
    "        iters+=1\n",
    "        if n1==inital_pt[0] and n2==inital_pt[1] and iters!=1:\n",
    "            if verbose:\n",
    "                print(f\"Completed in {iters} iterations.\")\n",
    "#             assert(check_config(arr))\n",
    "            break\n",
    "        current_up_state = arr[n1][n2][0]\n",
    "        current_right_state = arr[n1][n2][1]\n",
    "\n",
    "        lower_neighbour_up_state = arr[(n1+1)%N][n2][0]\n",
    "        left_neighbour_right_state = arr[n1][n2-1][1]\n",
    "\n",
    "        current_down_state = -(lower_neighbour_up_state)    \n",
    "        current_left_state = -(left_neighbour_right_state)\n",
    "\n",
    "        current_states_dict = {\"up\":current_up_state,\"right\":current_right_state,\"down\":current_down_state,\"left\":current_left_state}\n",
    "        outgoing_state_dict={}\n",
    "        incoming_state_dict={}\n",
    "\n",
    "        for key in current_states_dict.keys():\n",
    "            if current_states_dict[key]==1:  #current state is outgoing\n",
    "                outgoing_state_dict[key]=current_states_dict[key]\n",
    "            else:\n",
    "                incoming_state_dict[key]=current_states_dict[key]\n",
    "\n",
    "        if prev_choice ==\"right\":\n",
    "            forbidden_choice=\"left\"\n",
    "        if prev_choice ==\"up\":\n",
    "            forbidden_choice=\"down\"\n",
    "        if prev_choice ==\"left\":\n",
    "            forbidden_choice=\"right\"\n",
    "        if prev_choice ==\"down\":\n",
    "            forbidden_choice=\"up\"\n",
    "        else:\n",
    "            forbidden_choice=None\n",
    "\n",
    "\n",
    "        while True:\n",
    "            out_choice = np.random.choice(list(outgoing_state_dict.keys()))\n",
    "            if out_choice !=forbidden_choice:\n",
    "                break\n",
    "\n",
    "        prev_choice=out_choice\n",
    "\n",
    "        if out_choice == \"up\":\n",
    "            arr[n1][n2][0]= - (arr[n1][n2][0])\n",
    "            n1=(n1-1)%N\n",
    "            n2=n2\n",
    "            continue\n",
    "\n",
    "        if out_choice == \"right\":\n",
    "            arr[n1][n2][1]= - (arr[n1][n2][1])\n",
    "            n1=n1\n",
    "            n2=(n2+1)%N\n",
    "            continue\n",
    "\n",
    "        if out_choice == \"down\":\n",
    "            arr[(n1+1)%N][n2][0]= - (arr[(n1+1)%N][n2][0])\n",
    "            n1=(n1+1)%N\n",
    "            n2=n2\n",
    "            continue\n",
    "\n",
    "        if out_choice == \"left\":\n",
    "            arr[n1][(n2-1)%N][1]= - (arr[n1][(n2-1)%N][1])\n",
    "            n1=n1\n",
    "            n2=(n2-1)%N\n",
    "            continue\n",
    "\n",
    "\n",
    "\n",
    "    return arr,iters#Change made by Bachoti\n",
    "\n",
    "def count_states(num,total_counts,return_dict = False,verbose=False):          #Change total_counts parameter to an error percentage later to make it independent of num\n",
    "    '''\n",
    "    Author: Team ℏ\n",
    "    '''\n",
    "    state_dict={}\n",
    "    i=0\n",
    "    num_iters = []#Change made by Bachoti\n",
    "    num_iters_all = []#Change made by Bachoti\n",
    "    oldarr,iters = long_loop(initialise_state(num), verbose=False)#Change made by Bachoti\n",
    "    num_iters.append(iters)#Change made by Bachoti\n",
    "    while True:\n",
    "        if verbose:\n",
    "            print(f\"Iteration Number = {i} and Total states found = {len(state_dict)}\", end=\"\\r\")\n",
    "        newarr,iters = long_loop(oldarr,verbose=False)#Change made by Bachoti\n",
    "        name =arr_to_string(newarr)\n",
    "        num_iters_all.append(iters)#Change made by Bachoti\n",
    "        \n",
    "        if name not in state_dict:\n",
    "            count_repetitions=0\n",
    "            state_dict[name]=1\n",
    "            num_iters.append(iters)#Change made by Bachoti\n",
    "        else:\n",
    "            count_repetitions+=1\n",
    "            state_dict[name]+=1\n",
    "        if count_repetitions==total_counts:\n",
    "            break\n",
    "        i+=1\n",
    "        oldarr=newarr\n",
    "    if return_dict:\n",
    "        return len(state_dict),state_dict,num_iters,num_iters_all#Change made by Bachoti\n",
    "    else:\n",
    "        return len(state_dict),num_iters,num_iters_all#Change made by Bachoti\n",
    "\n",
    "def print_acche_se(arr):\n",
    "    for elem1 in arr:\n",
    "        for elem2 in elem1:\n",
    "            print(f\"[{elem2[0]},{elem2[1]}]\",end=\",\\t\")\n",
    "        print()\n",
    "        print()"
   ]
  },
  {
   "cell_type": "code",
   "execution_count": 12,
   "metadata": {},
   "outputs": [],
   "source": [
    "\n",
    "def get_all_column_translations(arr):\n",
    "    result_arr_list=[]\n",
    "    N=len(arr) \n",
    "    for i in range(1,N):\n",
    "        a1 = arr[:,0:i].reshape(N,-1,2)\n",
    "        a2 = arr[:,i:].reshape(N,-1,2)\n",
    "        res = np.hstack([a2,a1])\n",
    "        result_arr_list.append(res)\n",
    "    return result_arr_list\n",
    "\n",
    "def get_all_row_translations(arr):\n",
    "    result_arr_list=[]\n",
    "    N=len(arr) \n",
    "    for i in range(1,N):\n",
    "        a1 = arr[0:i,:].reshape(-1,N,2)\n",
    "        a2 = arr[i:,:].reshape(-1,N,2)\n",
    "        res = np.vstack([a2,a1])\n",
    "        result_arr_list.append(res)\n",
    "    return result_arr_list\n",
    "\n",
    "def arr_to_string(arr2):\n",
    "    arr = copy.deepcopy(arr2)\n",
    "    name = ' '.join(map(str, arr.flatten())).replace(' ','')\n",
    "    return name\n",
    "\n",
    "def string_to_arr(s):\n",
    "    '''\n",
    "    Author: Siddharth Chaini\n",
    "    '''\n",
    "    replaced_str = s.replace(\"-1\",\"0\")\n",
    "    arr=[]\n",
    "    for i in replaced_str:\n",
    "        if i=='1':\n",
    "            arr.append(1)\n",
    "        elif i==\"0\":\n",
    "            arr.append(-1)\n",
    "        else:\n",
    "            print(\"ERROR\")\n",
    "            assert(1==0)\n",
    "    arr = np.array(arr)\n",
    "    arr = arr.reshape(int(np.sqrt(len(arr)/2)),int(np.sqrt(len(arr)/2)),2)\n",
    "    return arr"
   ]
  },
  {
   "cell_type": "code",
   "execution_count": 13,
   "metadata": {},
   "outputs": [],
   "source": [
    "def remove_symmetries(all_names):\n",
    "    '''\n",
    "    Author: Team ℏ\n",
    "    '''\n",
    "    assert type(all_names)==list\n",
    "    for i,given_name in enumerate(all_names):\n",
    "#         print(\"*******************************\")\n",
    "#         print(f\"Original Name = {given_name}\")\n",
    "        arr = string_to_arr(given_name)\n",
    "        #Column Translation symmetries\n",
    "        templist=get_all_column_translations(arr)\n",
    "        for newarr in templist:\n",
    "            name = arr_to_string(newarr)\n",
    "#             print(f\"Col Trans Name = {name}\")\n",
    "            if name in all_names[i+1:]:\n",
    "                idx = all_names[i+1:].index(name) + i+1\n",
    "                del all_names[idx]\n",
    "                i = all_names.index(given_name)\n",
    "        \n",
    "        #Row Translation symmetries\n",
    "        templist=get_all_row_translations(arr)\n",
    "        for newarr in templist:\n",
    "            name = arr_to_string(newarr)\n",
    "#             print(f\"Row Trans Name = {name}\")\n",
    "            if name in all_names[i+1:]:\n",
    "                idx = all_names[i+1:].index(name) + i+1\n",
    "                del all_names[idx]\n",
    "                i = all_names.index(given_name)\n",
    "        \n",
    "        #Check 90 degree rotation symmetry\n",
    "        name = arr_to_string(rot90_anticlock(arr))\n",
    "#         print(f\"Rot 90 Name = {name}\")\n",
    "        if name in all_names[i+1:]:\n",
    "            idx = all_names[i+1:].index(name) + i+1\n",
    "            del all_names[idx]\n",
    "            i = all_names.index(given_name)\n",
    "\n",
    "        #Check 180 degree rotation symmetry\n",
    "        name = arr_to_string(rot180_anticlock(arr))\n",
    "#         print(f\"Rot 180 Name = {name}\")\n",
    "        if name in all_names[i+1:]:\n",
    "            idx = all_names[i+1:].index(name) + i+1\n",
    "            del all_names[idx]\n",
    "            i = all_names.index(given_name)\n",
    "\n",
    "        #Check 270 degree rotation symmetry\n",
    "        name = arr_to_string(rot270_anticlock(arr))\n",
    "#         print(f\"Rot 270 Name = {name}\")\n",
    "        if name in all_names[i+1:]:\n",
    "            idx = all_names[i+1:].index(name) + i+1\n",
    "            del all_names[idx]\n",
    "            i = all_names.index(given_name)\n",
    "\n",
    "        #Check horizontal flip symmetry\n",
    "        name = arr_to_string(hor_flip(arr))\n",
    "#         print(f\"Flip Hor Name = {name}\")\n",
    "        if name in all_names[i+1:]:\n",
    "            idx = all_names[i+1:].index(name) + i+1\n",
    "            del all_names[idx]\n",
    "            i = all_names.index(given_name)\n",
    "\n",
    "        #Check vertical flip symmetry\n",
    "        name = arr_to_string(ver_flip(arr))\n",
    "#         print(f\"Flip Ver Name = {name}\")\n",
    "        if name in all_names[i+1:]:\n",
    "            idx = all_names[i+1:].index(name) + i+1\n",
    "            del all_names[idx]\n",
    "            i = all_names.index(given_name)\n",
    "\n",
    "        #Check secondary diagonal flip symmetry\n",
    "        name = arr_to_string(flip_secondary_diag(arr))\n",
    "#         print(f\"Sec Diag Name = {name}\")\n",
    "        if name in all_names[i+1:]:\n",
    "            idx = all_names[i+1:].index(name) + i+1\n",
    "            del all_names[idx]\n",
    "            i = all_names.index(given_name)\n",
    "\n",
    "        #Check primary diagonal flip symmetry\n",
    "        name = arr_to_string(flip_primary_diag(arr))\n",
    "#         print(f\"Prim Diag Name = {name}\")\n",
    "        if name in all_names[i+1:]:\n",
    "            idx = all_names[i+1:].index(name) + i+1\n",
    "            del all_names[idx]\n",
    "            i = all_names.index(given_name)\n",
    "    return all_names"
   ]
  },
  {
   "cell_type": "markdown",
   "metadata": {},
   "source": [
    "# Secondary Diagonal"
   ]
  },
  {
   "cell_type": "code",
   "execution_count": 27,
   "metadata": {},
   "outputs": [],
   "source": [
    "def plot_vector(p1,p2):\n",
    "    '''\n",
    "    Author: Siddharth Chaini\n",
    "    '''\n",
    "    p1 = np.array(p1)\n",
    "    p2 = np.array(p2)\n",
    "    dp = p2-p1\n",
    "    plt.quiver(p1[0], p1[1], dp[0], dp[1],angles='xy', scale_units='xy', scale=1, headwidth = 5, headlength = 7)\n",
    "\n",
    "def get_coord_list(arr):\n",
    "    '''\n",
    "    Author: Siddharth Chaini\n",
    "    '''\n",
    "    coord_list=[]\n",
    "    num = len(arr)\n",
    "    for i in range(num):\n",
    "        temp_coord = []\n",
    "        for j in range(num):\n",
    "            current_elems = arr[i][j]\n",
    "            xpt = (num-1)-i\n",
    "            ypt = j\n",
    "            temp_coord.append((xpt,ypt))\n",
    "        coord_list.append(temp_coord)\n",
    "    return coord_list\n",
    "\n",
    "def visualise_2d_model(arr):\n",
    "    '''\n",
    "    Author: Siddharth Chaini\n",
    "    '''\n",
    "    num = len(arr)\n",
    "    plt.axes().set_aspect('equal')\n",
    "    coord_list = get_coord_list(arr)\n",
    "    for i in range(num):\n",
    "        for j in range(num):\n",
    "            current_up_state = arr[i][j][0]\n",
    "            current_right_state = arr[i][j][1]\n",
    "            x_current = coord_list[i][j][1]\n",
    "            y_current = coord_list[i][j][0]\n",
    "\n",
    "            lower_neighbour_up_state = arr[(i+1)%num][j][0]\n",
    "            x_up = coord_list[(i+1)%num][j][1]\n",
    "            y_up = coord_list[(i+1)%num][j][0]\n",
    "\n",
    "            left_neighbour_right_state = arr[i][j-1][1]\n",
    "            x_left = coord_list[i][j-1][1]\n",
    "            y_left = coord_list[i][j-1][0]\n",
    "\n",
    "\n",
    "            current_down_state = -(lower_neighbour_up_state)\n",
    "            current_left_state = -(left_neighbour_right_state)\n",
    "\n",
    "            plt.plot(x_current,y_current,'ob')\n",
    "\n",
    "            if current_up_state == 1:\n",
    "                plot_vector([x_current,y_current],[x_current,y_current+1])\n",
    "            elif current_up_state == -1:\n",
    "                plot_vector([x_current,y_current+1],[x_current,y_current])\n",
    "\n",
    "            if current_right_state == 1:\n",
    "                plot_vector([x_current,y_current],[x_current+1,y_current])\n",
    "            elif current_right_state == -1:\n",
    "                plot_vector([x_current+1,y_current],[x_current,y_current])\n",
    "\n",
    "            if current_down_state == 1:\n",
    "                plot_vector([x_current,y_current],[x_current,y_current-1])\n",
    "            elif current_down_state == -1:\n",
    "                plot_vector([x_current,y_current-1],[x_current,y_current])\n",
    "\n",
    "            if current_left_state == 1:\n",
    "                plot_vector([x_current,y_current],[x_current-1,y_current])\n",
    "            elif current_left_state == -1:\n",
    "                plot_vector([x_current-1,y_current],[x_current,y_current])\n",
    "    plt.xlim(-1,num+1)\n",
    "    plt.ylim(-1,num+1)\n",
    "    plt.axis('off')\n",
    "    plt.show()\n",
    "    plt.close()"
   ]
  },
  {
   "cell_type": "code",
   "execution_count": 42,
   "metadata": {},
   "outputs": [],
   "source": [
    "\n",
    "def state2to4(arr):\n",
    "    fourstatearr=np.zeros((arr.shape[0],arr.shape[1],4))\n",
    "    N=len(arr)\n",
    "    for i in range(len(arr)):\n",
    "        for j in range(len(arr)):\n",
    "            current_up_state = arr[i][j][0]\n",
    "            current_right_state = arr[i][j][1]\n",
    "            lower_neighbour_up_state = arr[(i+1)%N][j][0]\n",
    "            left_neighbour_right_state = arr[i][j-1][1]\n",
    "            current_left_state = -(left_neighbour_right_state)\n",
    "            current_down_state = -(lower_neighbour_up_state)\n",
    "            fourstatearr[i][j][0] = current_up_state\n",
    "            fourstatearr[i][j][1] = current_right_state\n",
    "            fourstatearr[i][j][2] = current_down_state\n",
    "            fourstatearr[i][j][3] = current_left_state\n",
    "\n",
    "    return fourstatearr"
   ]
  },
  {
   "cell_type": "code",
   "execution_count": 43,
   "metadata": {},
   "outputs": [],
   "source": [
    "#Rot 270 anticlock\n",
    "#Up becomes right, left becomes up, down becomes left, right becomes down\n",
    "def rot270_anticlock(arr2):\n",
    "    fourstatearr = state2to4(arr2)\n",
    "    fourstatearr = np.rot90(fourstatearr,3)\n",
    "    arr=np.zeros((fourstatearr.shape[0],fourstatearr.shape[1],2))\n",
    "    N=len(arr)\n",
    "    for i in range(len(arr)):\n",
    "        for j in range(len(arr)):\n",
    "            current_up_state = fourstatearr[i][j][0]\n",
    "            current_right_state = fourstatearr[i][j][1]\n",
    "            current_down_state = fourstatearr[i][j][2]\n",
    "            current_left_state = fourstatearr[i][j][3]\n",
    "            \n",
    "            new_up_state = current_left_state\n",
    "            new_right_state = current_up_state\n",
    "            \n",
    "            arr[i][j][0]=new_up_state\n",
    "            arr[i][j][1]=new_right_state\n",
    "    \n",
    "    return arr\n"
   ]
  },
  {
   "cell_type": "code",
   "execution_count": 44,
   "metadata": {},
   "outputs": [],
   "source": [
    "#Rot 180 anticlock\n",
    "#Up becomes down, left becomes right, down becomes up, right becomes left\n",
    "def rot180_anticlock(arr2):\n",
    "    fourstatearr = state2to4(arr2)\n",
    "    fourstatearr = np.rot90(fourstatearr,2)\n",
    "    arr=np.zeros((fourstatearr.shape[0],fourstatearr.shape[1],2))\n",
    "    N=len(arr)\n",
    "    for i in range(len(arr)):\n",
    "        for j in range(len(arr)):\n",
    "            current_up_state = fourstatearr[i][j][0]\n",
    "            current_right_state = fourstatearr[i][j][1]\n",
    "            current_down_state = fourstatearr[i][j][2]\n",
    "            current_left_state = fourstatearr[i][j][3]\n",
    "            \n",
    "            new_up_state = current_down_state\n",
    "            new_right_state = current_left_state\n",
    "            \n",
    "            arr[i][j][0]=new_up_state\n",
    "            arr[i][j][1]=new_right_state\n",
    "    \n",
    "    return arr"
   ]
  },
  {
   "cell_type": "code",
   "execution_count": 45,
   "metadata": {},
   "outputs": [],
   "source": [
    "#Rot 90 anticlock\n",
    "#Up becomes left, left becomes down, down becomes right, right becomes up\n",
    "def rot90_anticlock(arr2):\n",
    "    fourstatearr = state2to4(arr2)\n",
    "    fourstatearr = np.rot90(fourstatearr,1)\n",
    "    arr=np.zeros((fourstatearr.shape[0],fourstatearr.shape[1],2))\n",
    "    N=len(arr)\n",
    "    for i in range(len(arr)):\n",
    "        for j in range(len(arr)):\n",
    "            current_up_state = fourstatearr[i][j][0]\n",
    "            current_right_state = fourstatearr[i][j][1]\n",
    "            current_down_state = fourstatearr[i][j][2]\n",
    "            current_left_state = fourstatearr[i][j][3]\n",
    "            \n",
    "            new_up_state = current_right_state\n",
    "            new_right_state = current_down_state\n",
    "            \n",
    "            arr[i][j][0]=new_up_state\n",
    "            arr[i][j][1]=new_right_state\n",
    "    \n",
    "    return arr"
   ]
  },
  {
   "cell_type": "code",
   "execution_count": 46,
   "metadata": {},
   "outputs": [],
   "source": [
    "#secondary diagonal\n",
    "\n",
    "def flip_secondary_diag_0(arr2):\n",
    "    arr = copy.deepcopy(arr2)\n",
    "    N = len(arr)\n",
    "    for i in range(N):\n",
    "        for j in range(N):\n",
    "            if (i+j)<N:\n",
    "            #swapping Oxygen atoms\n",
    "                dist = N-(i+j+1)\n",
    "                arr[i][j], arr[i+dist][j+dist] = arr[i+dist][j+dist], arr[i][j]\n",
    "                \n",
    "            #swapping arrows of the atom\n",
    "            arr[i][j][0], arr[i][j][1] = arr[i][j][1], arr[i][j][0]\n",
    "    return arr"
   ]
  },
  {
   "cell_type": "code",
   "execution_count": 54,
   "metadata": {},
   "outputs": [],
   "source": [
    "#Flip vertically\n",
    "#Up becomes right, left becomes up, down becomes left, right becomes down\n",
    "def ver_flip(arr2):\n",
    "    '''\n",
    "    Author: Siddharth Chaini\n",
    "    '''\n",
    "    arr = np.flip(arr2,0)\n",
    "    proper_arr=np.zeros_like(arr2)\n",
    "    num = len(arr)\n",
    "    for i in range(num):\n",
    "        for j in range(num):\n",
    "            current_down_state = arr[i][j][0]\n",
    "            current_right_state = arr[i][j][1]\n",
    "            \n",
    "            upper_neighbour_down_state = arr[i-1][j][0]\n",
    "            current_up_state = - (upper_neighbour_down_state)\n",
    "            \n",
    "            proper_arr[i][j][0]=current_up_state\n",
    "            proper_arr[i][j][1]=current_right_state\n",
    "    return proper_arr"
   ]
  },
  {
   "cell_type": "code",
   "execution_count": 55,
   "metadata": {},
   "outputs": [],
   "source": [
    "#Flip horizontally\n",
    "#Up becomes right, left becomes up, down becomes left, right becomes down\n",
    "def hor_flip(arr2):\n",
    "    '''\n",
    "    Author: Siddharth Chaini\n",
    "    '''\n",
    "    arr = np.flip(arr2,1)\n",
    "    proper_arr=np.zeros_like(arr2)\n",
    "    num = len(arr)\n",
    "    for i in range(num):\n",
    "        for j in range(num):\n",
    "            current_up_state = arr[i][j][0]\n",
    "            current_left_state = arr[i][j][1]\n",
    "            \n",
    "            right_neighbour_left_state = arr[i][(j+1)%num][1]\n",
    "            current_right_state = - (right_neighbour_left_state)\n",
    "\n",
    "            proper_arr[i][j][0]=current_up_state\n",
    "            proper_arr[i][j][1]=current_right_state\n",
    "    return proper_arr"
   ]
  },
  {
   "cell_type": "code",
   "execution_count": 47,
   "metadata": {},
   "outputs": [],
   "source": [
    "#primary diagonal\n",
    "\n",
    "def flip_primary_diag_0(arr2):\n",
    "    arr = copy.deepcopy(arr2)\n",
    "    N = len(arr)\n",
    "    for i in range(N):\n",
    "        for j in range(N):\n",
    "            if i+j<2*i:\n",
    "                arr[i][j][0], arr[i][j][1], arr[j][i-1][1], arr[(j+1)%N][i][0] =  -arr[j][i-1][1], -arr[(j+1)%N][i][0], -arr[i][j][0], -arr[i][j][1]\n",
    "    return arr"
   ]
  },
  {
   "cell_type": "code",
   "execution_count": 48,
   "metadata": {},
   "outputs": [],
   "source": [
    "#primary diagonal\n",
    "\n",
    "def flip_primary_diag(arr2):\n",
    "    arr = copy.deepcopy(arr2)\n",
    "    N = len(arr)\n",
    "    arr = rot90_anticlock(flip_secondary_diag(rot270_anticlock(arr)))\n",
    "    return arr"
   ]
  },
  {
   "cell_type": "code",
   "execution_count": 49,
   "metadata": {},
   "outputs": [],
   "source": [
    "#secondary diagonal\n",
    "\n",
    "def flip_secondary_diag(arr2):\n",
    "    arr = copy.deepcopy(arr2)\n",
    "    N = len(arr)\n",
    "    for i in range(N):\n",
    "        for j in range(N):\n",
    "            if (i+j)<=N-1:\n",
    "                dist = N-(i+j+1)\n",
    "                arr[i][j][0], arr[i+dist][j+dist][0], arr[i][j][1], arr[i+dist][j+dist][1] = arr[i+dist][j+dist][1], arr[i][j][1], arr[i+dist][j+dist][0], arr[i][j][0]\n",
    "                \n",
    "    return arr"
   ]
  },
  {
   "cell_type": "code",
   "execution_count": 73,
   "metadata": {},
   "outputs": [],
   "source": [
    "def string_to_arr(s):\n",
    "    replaced_str = s.replace(\"-1\",\"0\")\n",
    "    arr=[]\n",
    "    for i in replaced_str:\n",
    "        if i=='1':\n",
    "            arr.append(1)\n",
    "        elif i==\"0\":\n",
    "            arr.append(-1)\n",
    "        else:\n",
    "            print(\"ERROR\")\n",
    "            assert(1==0)\n",
    "    arr = np.array(arr)\n",
    "    arr = arr.reshape(int(np.sqrt(len(arr)/2)),int(np.sqrt(len(arr)/2)),2)\n",
    "    return arr"
   ]
  },
  {
   "cell_type": "code",
   "execution_count": 50,
   "metadata": {},
   "outputs": [],
   "source": [
    "#This corresponds to pic in book\n",
    "arr = [[[-1,1],[-1,1],[1,-1],[-1,1]],\n",
    "       [[-1,-1],[-1,-1],[-1,1],[1,-1]],\n",
    "       [[-1,1],[-1,1],[1,1],[-1,1]],\n",
    "       [[-1,1],[-1,1],[1,1],[-1,1]]]\n",
    "arr = np.array(arr)"
   ]
  },
  {
   "cell_type": "code",
   "execution_count": 51,
   "metadata": {},
   "outputs": [],
   "source": [
    "l12 = np.array([[[-1,  1],\n",
    "        [ 1,  1],\n",
    "        [ 1,  1]],\n",
    "\n",
    "       [[-1, -1],\n",
    "        [ 1, -1],\n",
    "        [ 1, -1]],\n",
    "\n",
    "       [[-1,  1],\n",
    "        [ 1,  1],\n",
    "        [ 1,  1]]])"
   ]
  },
  {
   "cell_type": "code",
   "execution_count": 52,
   "metadata": {},
   "outputs": [
    {
     "data": {
      "image/png": "[encoded data removed]",
      "text/plain": [
       "<Figure size 432x288 with 1 Axes>"
      ]
     },
     "metadata": {
      "needs_background": "light"
     },
     "output_type": "display_data"
    }
   ],
   "source": [
    "visualise_2d_model(l12)"
   ]
  },
  {
   "cell_type": "code",
   "execution_count": 53,
   "metadata": {},
   "outputs": [
    {
     "data": {
      "image/png": "[encoded data removed]",
      "text/plain": [
       "<Figure size 432x288 with 1 Axes>"
      ]
     },
     "metadata": {
      "needs_background": "light"
     },
     "output_type": "display_data"
    }
   ],
   "source": [
    "visualise_2d_model(flip_primary_diag(l12))"
   ]
  },
  {
   "cell_type": "code",
   "execution_count": 69,
   "metadata": {},
   "outputs": [
    {
     "data": {
      "text/plain": [
       "4"
      ]
     },
     "execution_count": 69,
     "metadata": {},
     "output_type": "execute_result"
    }
   ],
   "source": [
    "len(arr)"
   ]
  },
  {
   "cell_type": "code",
   "execution_count": 41,
   "metadata": {},
   "outputs": [
    {
     "data": {
      "text/plain": [
       "[[[3, 1], [1, -1]], [[2, 1], [0, -1]]]"
      ]
     },
     "execution_count": 41,
     "metadata": {},
     "output_type": "execute_result"
    }
   ],
   "source": [
    "A = [[[0,-1],[1,-1]],[[2,1],[3,1]]]\n",
    "\n",
    "A[0][0] , A[1][1] = A[1][1] , A[0][0]\n",
    "\n",
    "A"
   ]
  },
  {
   "cell_type": "markdown",
   "metadata": {},
   "source": [
    "# Check for symmetric repititions"
   ]
  },
  {
   "cell_type": "code",
   "execution_count": 58,
   "metadata": {},
   "outputs": [
    {
     "data": {
      "text/plain": [
       "['a', 'b', 'c', 'd', 'e', 'f', 'g']"
      ]
     },
     "execution_count": 58,
     "metadata": {},
     "output_type": "execute_result"
    }
   ],
   "source": [
    "# #Updated function available in a later commit\n",
    "\n",
    "# def remove_symmetries(str_dict):\n",
    "#     for i in str_dict:\n",
    "#         arr = string_to_arr(i)\n",
    "#         ##Insert translations wale symmetries\n",
    "#         #sdkfjgslkfdjglska#\n",
    "\n",
    "#         #Check 90 degree rotation symmetry\n",
    "#         name = ' '.join(map(str, rot90_anticlock(arr).flatten())).replace(' ','')\n",
    "#         if name in str_dict:\n",
    "#             del str_dict[name]\n",
    "\n",
    "#         #Check 180 degree rotation symmetry\n",
    "#         name = ' '.join(map(str, rot180_anticlock(arr).flatten())).replace(' ','')\n",
    "#         if name in str_dict:\n",
    "#             del str_dict[name]\n",
    "\n",
    "#         #Check 270 degree rotation symmetry\n",
    "#         name = ' '.join(map(str, rot270_anticlock(arr).flatten())).replace(' ','')\n",
    "#         if name in str_dict:\n",
    "#             del str_dict[name]\n",
    "\n",
    "#         #Check horizontal flip symmetry\n",
    "#         name = ' '.join(map(str, hor_flip(arr).flatten())).replace(' ','')\n",
    "#         if name in str_dict:\n",
    "#             del str_dict[name]\n",
    "\n",
    "#         #Check vertical flip symmetry\n",
    "#         name = ' '.join(map(str, ver_flip(arr).flatten())).replace(' ','')\n",
    "#         if name in str_dict:\n",
    "#             del str_dict[name]\n",
    "\n",
    "#         #Check secondary diagonal flip symmetry\n",
    "#         name = ' '.join(map(str, flip_secondary_diag(arr).flatten())).replace(' ','')\n",
    "#         if name in str_dict:\n",
    "#             del str_dict[name]\n",
    "\n",
    "#         #Check primary diagonal flip symmetry\n",
    "#         name = ' '.join(map(str, flip_primary_diag(arr).flatten())).replace(' ','')\n",
    "#         if name in str_dict:\n",
    "#             del str_dict[name]    \n",
    "\n",
    "#     return str_dict"
   ]
  },
  {
   "cell_type": "markdown",
   "metadata": {},
   "source": [
    "# Count unique states"
   ]
  },
  {
   "cell_type": "code",
   "execution_count": 21,
   "metadata": {},
   "outputs": [],
   "source": [
    "lattice = []\n",
    "unique_states = []\n",
    "entropy = []\n",
    "mean_steps = []\n",
    "mean_steps_all = []\n",
    "#Changes have been made to the functions - long_loop and count_states for the sake of making graph plotting easy. These changes have been marked.\n",
    "#The lists defined above will be used for plotting.\n",
    "#These lists have been passed into the function below.\n",
    "#Every single run of the function below should generate one data point each and the data point will be appended to the above lists.\n",
    "def count_unique_states(num,total_counts,lattice,unique_states,entropy,num_iters,return_dict = False,verbose=False):\n",
    "    tot_states,state_dict,num_iters,num_iters_all = count_states(num,total_counts,return_dict=True)\n",
    "    short_arrays = remove_symmetries(list(state_dict.keys()))\n",
    "    unique_states.append(len(short_arrays))\n",
    "    lattice.append(num)\n",
    "    entropy.append(np.log(len(short_arrays)))\n",
    "    mean_steps.append(np.mean(num_iters))\n",
    "    mean_steps_all.append(np.mean(num_iters_all))\n",
    "    "
   ]
  },
  {
   "cell_type": "markdown",
   "metadata": {},
   "source": [
    "# Plotting functions"
   ]
  },
  {
   "cell_type": "markdown",
   "metadata": {},
   "source": [
    "## Entropy vs Lattice size / number of Oxygen atoms\n"
   ]
  },
  {
   "cell_type": "code",
   "execution_count": null,
   "metadata": {},
   "outputs": [],
   "source": [
    "def plot_entropy_vs_lattice_size(x,y):\n",
    "    f = plt.plot(x,y,color='green', linestyle='dashed', linewidth = 3, \n",
    "         marker='o', markerfacecolor='blue', markersize=12)\n",
    "    plt.xlabel('Lattice size')\n",
    "    plt.ylabel('Entropy per Kb (J K^(-1))')\n",
    "    plt.title('Entropy')\n",
    "    plt.show()\n",
    "    "
   ]
  },
  {
   "cell_type": "code",
   "execution_count": null,
   "metadata": {},
   "outputs": [],
   "source": []
  },
  {
   "cell_type": "markdown",
   "metadata": {},
   "source": [
    "## Number of iterations needed to converge vs Lattice size"
   ]
  },
  {
   "cell_type": "code",
   "execution_count": null,
   "metadata": {},
   "outputs": [],
   "source": [
    "def plot_iter_vs_lattice_size(x,y):\n",
    "    f = plt.plot(x,y,color='green', linestyle='dashed', linewidth = 3, \n",
    "         marker='o', markerfacecolor='blue', markersize=12)\n",
    "    plt.xlabel('Lattice size')\n",
    "    plt.ylabel('No. of iterations')\n",
    "    plt.title('Convergence of the long loop algorithm')\n",
    "    plt.show()\n",
    "    "
   ]
  },
  {
   "cell_type": "code",
   "execution_count": null,
   "metadata": {},
   "outputs": [],
   "source": []
  },
  {
   "cell_type": "markdown",
   "metadata": {},
   "source": [
    "## Mean size of loop v/s lattice size"
   ]
  },
  {
   "cell_type": "code",
   "execution_count": null,
   "metadata": {},
   "outputs": [],
   "source": [
    "def plot_states_vs_lattice_size(x,y):\n",
    "    f = plt.plot(x,y,color='green', linestyle='dashed', linewidth = 3, \n",
    "         marker='o', markerfacecolor='blue', markersize=12)\n",
    "    plt.xlabel('Lattice size')\n",
    "    plt.ylabel('Mean loop size')\n",
    "    plt.title('Mean loop size')\n",
    "    plt.show()\n"
   ]
  },
  {
   "cell_type": "code",
   "execution_count": null,
   "metadata": {},
   "outputs": [],
   "source": []
  },
  {
   "cell_type": "markdown",
   "metadata": {},
   "source": [
    "## No.of states v/s number of particles"
   ]
  },
  {
   "cell_type": "code",
   "execution_count": null,
   "metadata": {},
   "outputs": [],
   "source": [
    "def plot_entropy_vs_lattice_size(x,y):\n",
    "    f = plt.plot(x,y,color='green', linestyle='dashed', linewidth = 3, \n",
    "         marker='o', markerfacecolor='blue', markersize=12)\n",
    "    plt.xlabel('No. of particles')\n",
    "    plt.ylabel('Number of states')\n",
    "    plt.title('Number of states')\n",
    "    plt.show()"
   ]
  },
  {
   "cell_type": "code",
   "execution_count": null,
   "metadata": {},
   "outputs": [],
   "source": []
  },
  {
   "cell_type": "markdown",
   "metadata": {},
   "source": [
    "## Correlation time vs lattice size"
   ]
  },
  {
   "cell_type": "code",
   "execution_count": null,
   "metadata": {},
   "outputs": [],
   "source": [
    "def plot_entropy_vs_lattice_size(x,y):\n",
    "    f = plt.plot(x,y,color='green', linestyle='dashed', linewidth = 3, \n",
    "         marker='o', markerfacecolor='blue', markersize=12)\n",
    "    plt.xlabel('Lattice size')\n",
    "    plt.ylabel('Correlation time')\n",
    "    plt.title('Correlation time')\n",
    "    plt.show()"
   ]
  },
  {
   "cell_type": "code",
   "execution_count": null,
   "metadata": {},
   "outputs": [],
   "source": []
  },
  {
   "cell_type": "code",
   "execution_count": null,
   "metadata": {},
   "outputs": [],
   "source": []
  }
 ],
 "metadata": {
  "kernelspec": {
   "display_name": "Python 3",
   "language": "python",
   "name": "python3"
  },
  "language_info": {
   "codemirror_mode": {
    "name": "ipython",
    "version": 3
   },
   "file_extension": ".py",
   "mimetype": "text/x-python",
   "name": "python",
   "nbconvert_exporter": "python",
   "pygments_lexer": "ipython3",
   "version": "3.7.6"
  }
 },
 "nbformat": 4,
 "nbformat_minor": 4
}
