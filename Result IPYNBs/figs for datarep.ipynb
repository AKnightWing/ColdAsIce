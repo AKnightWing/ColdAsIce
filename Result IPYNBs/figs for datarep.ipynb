{
 "cells": [
  {
   "cell_type": "code",
   "execution_count": 6,
   "metadata": {},
   "outputs": [],
   "source": [
    "import numpy as np\n",
    "import matplotlib.pyplot as plt"
   ]
  },
  {
   "cell_type": "code",
   "execution_count": 28,
   "metadata": {},
   "outputs": [],
   "source": [
    "def plot_vector(p1,p2,num,dirn=\"other\"):\n",
    "    '''\n",
    "    Author: Siddharth Chaini\n",
    "    ~Function Description~\n",
    "    '''\n",
    "    if num>4:\n",
    "        w = 0.12/num\n",
    "        h=0.9/num\n",
    "    else:\n",
    "        w = 0.03\n",
    "        h=0.2\n",
    "    \n",
    "    if dirn==\"up\":\n",
    "        colr=\"C8\"\n",
    "    elif dirn==\"right\":\n",
    "        colr=\"C9\"\n",
    "    else:\n",
    "        colr=\"k\"\n",
    "        \n",
    "    p1 = np.array(p1)\n",
    "    p2 = np.array(p2)\n",
    "    dp = p2-p1\n",
    "    dx = dp[0]\n",
    "    dy = dp[1]\n",
    "\n",
    "    plt.arrow(p1[0], p1[1],\n",
    "                 dx / 2, dy / 2,\n",
    "                 width=w, head_width=h,\n",
    "                 facecolor=colr,edgecolor =colr,\n",
    "                 zorder=0)\n",
    "\n",
    "    plt.arrow(p1[0] + dx / 2,\n",
    "                 p1[1] + dy / 2,\n",
    "                 dx / 2, dy / 2,\n",
    "                 width=w, head_width=0,\n",
    "                 facecolor=colr,edgecolor =colr,\n",
    "                 zorder=0)\n",
    "\n",
    "def plot_vector_old(p1,p2):\n",
    "    '''\n",
    "    DEPRECATED: As of 5th June 2020.\n",
    "    Author: Siddharth Chaini\n",
    "    ~Function Description~\n",
    "    '''\n",
    "    p1 = np.array(p1)\n",
    "    p2 = np.array(p2)\n",
    "    dp = p2-p1\n",
    "    plt.quiver(p1[0], p1[1], dp[0], dp[1],angles='xy', scale_units='xy', scale=1, headwidth = 5, headlength = 7)\n",
    "\n",
    "def get_coord_list(arr):\n",
    "    '''\n",
    "    Author: Siddharth Chaini\n",
    "    ~Function Description~\n",
    "    '''\n",
    "    coord_list=[]\n",
    "    num = len(arr)\n",
    "    for i in range(num):\n",
    "        temp_coord = []\n",
    "        for j in range(num):\n",
    "            current_elems = arr[i][j]\n",
    "            xpt = (num-1)-i\n",
    "            ypt = j\n",
    "            temp_coord.append((xpt,ypt))\n",
    "        coord_list.append(temp_coord)\n",
    "    return coord_list\n",
    "\n",
    "def visualise_2d_model(arr,savefig=False,savename=\".temp\",show=True):\n",
    "    '''\n",
    "    Author: Siddharth Chaini\n",
    "    ~Function Description~\n",
    "    '''\n",
    "    num = len(arr)\n",
    "    if num<4:\n",
    "        mksize = 35/num \n",
    "    else:\n",
    "        mksize=(35/num)+0.5\n",
    "    plt.axes().set_aspect('equal')\n",
    "    coord_list = get_coord_list(arr)\n",
    "    for i in range(num):\n",
    "        for j in range(num):\n",
    "            current_up_state = arr[i][j][0]\n",
    "            current_right_state = arr[i][j][1]\n",
    "            x_current = coord_list[i][j][1]\n",
    "            y_current = coord_list[i][j][0]\n",
    "\n",
    "            lower_neighbour_up_state = arr[(i+1)%num][j][0]\n",
    "            x_up = coord_list[(i+1)%num][j][1]\n",
    "            y_up = coord_list[(i+1)%num][j][0]\n",
    "\n",
    "            left_neighbour_right_state = arr[i][j-1][1]\n",
    "            x_left = coord_list[i][j-1][1]\n",
    "            y_left = coord_list[i][j-1][0]\n",
    "\n",
    "\n",
    "            current_down_state = -(lower_neighbour_up_state)\n",
    "            current_left_state = -(left_neighbour_right_state)\n",
    "\n",
    "#             plt.plot(x_current,y_current,'ob')\n",
    "            \n",
    "            plt.plot(x_current,y_current,\n",
    "                        marker=\"o\", markersize=mksize, markeredgecolor=\"k\",\n",
    "                        markerfacecolor=\"k\",\n",
    "                        zorder=1)\n",
    "\n",
    "            if current_up_state == 1:\n",
    "                plot_vector([x_current,y_current],[x_current,y_current+1],num,\"up\")\n",
    "            elif current_up_state == -1:\n",
    "                plot_vector([x_current,y_current+1],[x_current,y_current],num,\"up\")\n",
    "\n",
    "            if current_right_state == 1:\n",
    "                plot_vector([x_current,y_current],[x_current+1,y_current],num,\"right\")\n",
    "            elif current_right_state == -1:\n",
    "                plot_vector([x_current+1,y_current],[x_current,y_current],num,\"right\")\n",
    "\n",
    "            if current_down_state == 1:\n",
    "                plot_vector([x_current,y_current],[x_current,y_current-1],num,\"up\")\n",
    "            elif current_down_state == -1:\n",
    "                plot_vector([x_current,y_current-1],[x_current,y_current],num,\"up\")\n",
    "\n",
    "            if current_left_state == 1:\n",
    "                plot_vector([x_current,y_current],[x_current-1,y_current],num,\"right\")\n",
    "            elif current_left_state == -1:\n",
    "                plot_vector([x_current-1,y_current],[x_current,y_current],num,\"right\")\n",
    "    plt.xlim(-1,num)\n",
    "    plt.ylim(-1,num)\n",
    "    plt.axis('off')\n",
    "    if savefig:\n",
    "        plt.savefig(f\"{savename}.png\",dpi=300)\n",
    "    if show:\n",
    "        plt.show()\n",
    "    plt.close()"
   ]
  },
  {
   "cell_type": "code",
   "execution_count": 29,
   "metadata": {},
   "outputs": [],
   "source": [
    "arr = np.array([[[1, 1],\n",
    "        [-1, 1],\n",
    "        [1, 1]],\n",
    "\n",
    "       [[1, -1],\n",
    "        [-1, 1],\n",
    "        [1, -1]],\n",
    "\n",
    "       [[1, 1],\n",
    "        [1, -1],\n",
    "        [-1, 1]]])\n"
   ]
  },
  {
   "cell_type": "code",
   "execution_count": 30,
   "metadata": {},
   "outputs": [
    {
     "data": {
      "image/png": "[encoded data removed]",
      "text/plain": [
       "<Figure size 432x288 with 1 Axes>"
      ]
     },
     "metadata": {
      "needs_background": "light"
     },
     "output_type": "display_data"
    }
   ],
   "source": [
    "visualise_2d_model(arr,savefig=True,savename=\"Check.png\")"
   ]
  },
  {
   "cell_type": "code",
   "execution_count": 31,
   "metadata": {},
   "outputs": [],
   "source": [
    "def print_acche_se(arr):\n",
    "    for elem1 in arr:\n",
    "        for elem2 in elem1:\n",
    "            print(f\"[{elem2[0]},{elem2[1]}]\",end=\",\\t\")\n",
    "        print()\n",
    "        print()"
   ]
  },
  {
   "cell_type": "code",
   "execution_count": 33,
   "metadata": {},
   "outputs": [
    {
     "name": "stdout",
     "output_type": "stream",
     "text": [
      "[1,1],\t[-1,1],\t[1,1],\t\n",
      "\n",
      "[1,-1],\t[-1,1],\t[1,-1],\t\n",
      "\n",
      "[1,1],\t[1,-1],\t[-1,1],\t\n",
      "\n"
     ]
    }
   ],
   "source": [
    "print_acche_se(arr)"
   ]
  },
  {
   "cell_type": "markdown",
   "metadata": {},
   "source": [
    "\\begin{pmatrix} [1,1]  & [-1,1] & [1,1]\\\\ [1,-1] & [-1,1] & [1,-1] \\\\ [1,1] & [1,-1] & [-1,1] \\\\ \\end{pmatrix}\n"
   ]
  },
  {
   "cell_type": "code",
   "execution_count": null,
   "metadata": {},
   "outputs": [],
   "source": []
  }
 ],
 "metadata": {
  "kernelspec": {
   "display_name": "Python 3",
   "language": "python",
   "name": "python3"
  },
  "language_info": {
   "codemirror_mode": {
    "name": "ipython",
    "version": 3
   },
   "file_extension": ".py",
   "mimetype": "text/x-python",
   "name": "python",
   "nbconvert_exporter": "python",
   "pygments_lexer": "ipython3",
   "version": "3.7.7"
  }
 },
 "nbformat": 4,
 "nbformat_minor": 4
}
